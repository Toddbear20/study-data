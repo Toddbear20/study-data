{
 "cells": [
  {
   "cell_type": "markdown",
   "id": "960a465d",
   "metadata": {},
   "source": [
    "[numpy random 함수]\n",
    "\n",
    "- np.random.seed : seed를 통한 난수 생성\n",
    "- np.random.randint : 정수 난수 1개 생성\n",
    "- np.random.rand : 0부터 1사이의 균일분포에서 난수 매트릭스 배열 생성\n",
    "- np.random.randn : 가우시안 표준 정규분포에서 난수 매트릭스 배열 생성\n",
    "- np.random.shuffle : 기존의 데이터의 순서 바꾸기\n",
    "- np.random.choice : 기존 데이터에서 sampling\n"
   ]
  },
  {
   "cell_type": "code",
   "execution_count": 26,
   "id": "d6434334",
   "metadata": {},
   "outputs": [
    {
     "name": "stdout",
     "output_type": "stream",
     "text": [
      "0.9387290120768739 \n",
      "\n",
      "8 \n",
      "\n",
      "10.801320542208114 \n",
      "\n",
      "2 \n",
      "\n",
      "5 \n",
      "\n",
      "[3, 1, 4] \n",
      "\n",
      "[1, 2, 4, 3, 5]\n"
     ]
    }
   ],
   "source": [
    "# Python random\n",
    "import random\n",
    "print(random.random(),'\\n') #0.0~1.0 사이 랜덤한 숫자\n",
    "print(random.randint(1,10),'\\n')# 1~10 사이의 정수 중에서 난수 값 리턴\n",
    "print(random.uniform(10,20),'\\n')#min,max 사이의 float 리턴\n",
    "print(random.randrange(10),'\\n')#지정 범위 int 리턴\n",
    "print(random.choice([1,2,3,4,5]),'\\n')#리스트 내부에 있는 요소를 랜덤하게 선택\n",
    "li = [1,2,3,4,5]\n",
    "print(random.sample(li,3), '\\n') #리스트 요소를 중복이 안되게 리턴\n",
    "random.shuffle(li) #리스트 요소를 다시 섞어서 리턴\n",
    "print(li) #섞인 리스트"
   ]
  },
  {
   "cell_type": "code",
   "execution_count": 11,
   "id": "02a0cb49",
   "metadata": {},
   "outputs": [
    {
     "data": {
      "text/plain": [
       "array([0.28896275, 0.75554676, 0.55512055, 0.15191074, 0.58365717,\n",
       "       0.16059633])"
      ]
     },
     "execution_count": 11,
     "metadata": {},
     "output_type": "execute_result"
    }
   ],
   "source": [
    "import numpy as np\n",
    "r = np.random.rand(6)\n",
    "r"
   ]
  },
  {
   "cell_type": "code",
   "execution_count": 18,
   "id": "c32e8413",
   "metadata": {},
   "outputs": [
    {
     "name": "stdout",
     "output_type": "stream",
     "text": [
      "==================================================\n",
      "0.5040125449296429\n",
      "0.28661929753421017\n"
     ]
    }
   ],
   "source": [
    "import numpy as np\n",
    "r = np.random.rand(10000)  # 0 ~ 1 사이의 균일 분포\n",
    "print('='*50)\n",
    "print(r.mean())\n",
    "print(r.std())"
   ]
  },
  {
   "cell_type": "code",
   "execution_count": 20,
   "id": "67721348",
   "metadata": {},
   "outputs": [
    {
     "name": "stdout",
     "output_type": "stream",
     "text": [
      "==================================================\n",
      "-0.0015346992234481895\n",
      "0.9919054145792584\n"
     ]
    }
   ],
   "source": [
    "# 표준 정규분포\n",
    "r = np.random.randn(10000)\n",
    "print('='*50)\n",
    "print(r.mean())\n",
    "print(r.std())"
   ]
  },
  {
   "cell_type": "code",
   "execution_count": 16,
   "id": "56fbab5c",
   "metadata": {},
   "outputs": [
    {
     "data": {
      "text/plain": [
       "array([1.10142321, 1.92852834, 1.74291325, 1.81990309, 1.1163583 ,\n",
       "       1.53226573, 1.58337249, 1.78728613, 1.43620566, 1.46937972])"
      ]
     },
     "execution_count": 16,
     "metadata": {},
     "output_type": "execute_result"
    }
   ],
   "source": [
    "# 1.0 <= x < 2.0 사이 float 값 10개 리턴\n",
    "# np.random.random_sample() 함수와 다르게 최소, 최대값을 지정해줄 수 있다.\n",
    "np.random.uniform(1.0,2.0,10)  "
   ]
  },
  {
   "cell_type": "code",
   "execution_count": 17,
   "id": "e728bae2",
   "metadata": {},
   "outputs": [
    {
     "data": {
      "text/plain": [
       "array([1.83255967, 1.81325712, 1.99246547, 1.06798157, 1.22210524,\n",
       "       1.37122292, 1.55162337, 1.78302394, 1.73149918, 1.57317149])"
      ]
     },
     "execution_count": 17,
     "metadata": {},
     "output_type": "execute_result"
    }
   ],
   "source": [
    "np.random.uniform(1.0,2.0,10)"
   ]
  },
  {
   "cell_type": "code",
   "execution_count": 4,
   "id": "29aaf18d",
   "metadata": {},
   "outputs": [
    {
     "data": {
      "text/plain": [
       "array([[0.29603817, 0.43570971, 0.90481468],\n",
       "       [0.44212263, 0.85972087, 0.27091756]])"
      ]
     },
     "execution_count": 4,
     "metadata": {},
     "output_type": "execute_result"
    }
   ],
   "source": [
    "np.random.uniform(0,1,(2,3))"
   ]
  },
  {
   "cell_type": "code",
   "execution_count": 6,
   "id": "1340ccfd",
   "metadata": {},
   "outputs": [
    {
     "data": {
      "text/plain": [
       "array([[0.49354063, 0.67627258, 0.69423115],\n",
       "       [0.24341772, 0.24654702, 0.9895303 ]])"
      ]
     },
     "execution_count": 6,
     "metadata": {},
     "output_type": "execute_result"
    }
   ],
   "source": [
    "#0~1사이의 난수 실수값으로 행렬 생성\n",
    "#uniform 함수의 최소값, 최대값을 0,1fh wlwjdgks rjtrhk rkxdma\n",
    "np.random.random_sample((2,3))"
   ]
  },
  {
   "cell_type": "code",
   "execution_count": 23,
   "id": "10421f20",
   "metadata": {},
   "outputs": [
    {
     "name": "stdout",
     "output_type": "stream",
     "text": [
      "[[0.73742514 0.06965909 0.98032622 0.9157684  0.33961902 0.14938228\n",
      "  0.20190492 0.43507689]\n",
      " [0.44631255 0.37374117 0.70718874 0.17591599 0.97320134 0.47295458\n",
      "  0.38610321 0.350076  ]\n",
      " [0.26353715 0.03203028 0.69118474 0.25162501 0.94830551 0.90787737\n",
      "  0.48279423 0.14657475]\n",
      " [0.15301364 0.54089372 0.77123943 0.07916045 0.93646836 0.69937534\n",
      "  0.58853212 0.15314599]]\n"
     ]
    },
    {
     "data": {
      "text/html": [
       "<div>\n",
       "<style scoped>\n",
       "    .dataframe tbody tr th:only-of-type {\n",
       "        vertical-align: middle;\n",
       "    }\n",
       "\n",
       "    .dataframe tbody tr th {\n",
       "        vertical-align: top;\n",
       "    }\n",
       "\n",
       "    .dataframe thead th {\n",
       "        text-align: right;\n",
       "    }\n",
       "</style>\n",
       "<table border=\"1\" class=\"dataframe\">\n",
       "  <thead>\n",
       "    <tr style=\"text-align: right;\">\n",
       "      <th></th>\n",
       "      <th>id</th>\n",
       "      <th>gender</th>\n",
       "      <th>age</th>\n",
       "      <th>region</th>\n",
       "      <th>product</th>\n",
       "      <th>price</th>\n",
       "      <th>qty</th>\n",
       "      <th>time</th>\n",
       "    </tr>\n",
       "  </thead>\n",
       "  <tbody>\n",
       "    <tr>\n",
       "      <th>0</th>\n",
       "      <td>0.737425</td>\n",
       "      <td>0.069659</td>\n",
       "      <td>0.980326</td>\n",
       "      <td>0.915768</td>\n",
       "      <td>0.339619</td>\n",
       "      <td>0.149382</td>\n",
       "      <td>0.201905</td>\n",
       "      <td>0.435077</td>\n",
       "    </tr>\n",
       "    <tr>\n",
       "      <th>1</th>\n",
       "      <td>0.446313</td>\n",
       "      <td>0.373741</td>\n",
       "      <td>0.707189</td>\n",
       "      <td>0.175916</td>\n",
       "      <td>0.973201</td>\n",
       "      <td>0.472955</td>\n",
       "      <td>0.386103</td>\n",
       "      <td>0.350076</td>\n",
       "    </tr>\n",
       "    <tr>\n",
       "      <th>2</th>\n",
       "      <td>0.263537</td>\n",
       "      <td>0.032030</td>\n",
       "      <td>0.691185</td>\n",
       "      <td>0.251625</td>\n",
       "      <td>0.948306</td>\n",
       "      <td>0.907877</td>\n",
       "      <td>0.482794</td>\n",
       "      <td>0.146575</td>\n",
       "    </tr>\n",
       "    <tr>\n",
       "      <th>3</th>\n",
       "      <td>0.153014</td>\n",
       "      <td>0.540894</td>\n",
       "      <td>0.771239</td>\n",
       "      <td>0.079160</td>\n",
       "      <td>0.936468</td>\n",
       "      <td>0.699375</td>\n",
       "      <td>0.588532</td>\n",
       "      <td>0.153146</td>\n",
       "    </tr>\n",
       "  </tbody>\n",
       "</table>\n",
       "</div>"
      ],
      "text/plain": [
       "         id    gender       age    region   product     price       qty  \\\n",
       "0  0.737425  0.069659  0.980326  0.915768  0.339619  0.149382  0.201905   \n",
       "1  0.446313  0.373741  0.707189  0.175916  0.973201  0.472955  0.386103   \n",
       "2  0.263537  0.032030  0.691185  0.251625  0.948306  0.907877  0.482794   \n",
       "3  0.153014  0.540894  0.771239  0.079160  0.936468  0.699375  0.588532   \n",
       "\n",
       "       time  \n",
       "0  0.435077  \n",
       "1  0.350076  \n",
       "2  0.146575  \n",
       "3  0.153146  "
      ]
     },
     "execution_count": 23,
     "metadata": {},
     "output_type": "execute_result"
    }
   ],
   "source": [
    "# 배열을 df로 변환\n",
    "# coloumns 8개에 대한 이름 columns = ['id','gender','age','region','product','price','qty','time']\n",
    "import pandas as pd\n",
    "ar = np.random.rand(4,8)\n",
    "print(ar)\n",
    "ard = pd.DataFrame(ar,\n",
    "                   columns = ['id','gender','age','region','product','price','qty','time']\n",
    ")\n",
    "ard"
   ]
  },
  {
   "cell_type": "code",
   "execution_count": 24,
   "id": "79bb2c87",
   "metadata": {},
   "outputs": [],
   "source": [
    "# Q. id, gender, age 컬럼에 대하여 의미있는 값으로 변환하여 3개의 컬럼으로 구성된 df3를 출력하세요."
   ]
  },
  {
   "cell_type": "code",
   "execution_count": 55,
   "id": "dca05f74",
   "metadata": {},
   "outputs": [
    {
     "data": {
      "text/html": [
       "<div>\n",
       "<style scoped>\n",
       "    .dataframe tbody tr th:only-of-type {\n",
       "        vertical-align: middle;\n",
       "    }\n",
       "\n",
       "    .dataframe tbody tr th {\n",
       "        vertical-align: top;\n",
       "    }\n",
       "\n",
       "    .dataframe thead th {\n",
       "        text-align: right;\n",
       "    }\n",
       "</style>\n",
       "<table border=\"1\" class=\"dataframe\">\n",
       "  <thead>\n",
       "    <tr style=\"text-align: right;\">\n",
       "      <th></th>\n",
       "      <th>id</th>\n",
       "      <th>gender</th>\n",
       "      <th>age</th>\n",
       "      <th>region</th>\n",
       "      <th>product</th>\n",
       "      <th>price</th>\n",
       "      <th>qty</th>\n",
       "      <th>time</th>\n",
       "    </tr>\n",
       "  </thead>\n",
       "  <tbody>\n",
       "    <tr>\n",
       "      <th>0</th>\n",
       "      <td>908571</td>\n",
       "      <td>female</td>\n",
       "      <td>88</td>\n",
       "      <td>0.915768</td>\n",
       "      <td>0.339619</td>\n",
       "      <td>0.149382</td>\n",
       "      <td>0.201905</td>\n",
       "      <td>0.435077</td>\n",
       "    </tr>\n",
       "    <tr>\n",
       "      <th>1</th>\n",
       "      <td>960749</td>\n",
       "      <td>female</td>\n",
       "      <td>31</td>\n",
       "      <td>0.175916</td>\n",
       "      <td>0.973201</td>\n",
       "      <td>0.472955</td>\n",
       "      <td>0.386103</td>\n",
       "      <td>0.350076</td>\n",
       "    </tr>\n",
       "    <tr>\n",
       "      <th>2</th>\n",
       "      <td>692338</td>\n",
       "      <td>male</td>\n",
       "      <td>50</td>\n",
       "      <td>0.251625</td>\n",
       "      <td>0.948306</td>\n",
       "      <td>0.907877</td>\n",
       "      <td>0.482794</td>\n",
       "      <td>0.146575</td>\n",
       "    </tr>\n",
       "    <tr>\n",
       "      <th>3</th>\n",
       "      <td>840484</td>\n",
       "      <td>female</td>\n",
       "      <td>33</td>\n",
       "      <td>0.079160</td>\n",
       "      <td>0.936468</td>\n",
       "      <td>0.699375</td>\n",
       "      <td>0.588532</td>\n",
       "      <td>0.153146</td>\n",
       "    </tr>\n",
       "  </tbody>\n",
       "</table>\n",
       "</div>"
      ],
      "text/plain": [
       "       id  gender  age    region   product     price       qty      time\n",
       "0  908571  female   88  0.915768  0.339619  0.149382  0.201905  0.435077\n",
       "1  960749  female   31  0.175916  0.973201  0.472955  0.386103  0.350076\n",
       "2  692338    male   50  0.251625  0.948306  0.907877  0.482794  0.146575\n",
       "3  840484  female   33  0.079160  0.936468  0.699375  0.588532  0.153146"
      ]
     },
     "execution_count": 55,
     "metadata": {},
     "output_type": "execute_result"
    }
   ],
   "source": [
    "ard.id = np.random.randint(100000,999999,4)\n",
    "ard.gender = np.random.choice(['male','female'],4)\n",
    "ard.age = np.random.randint(0,100,4)\n",
    "ard\n"
   ]
  },
  {
   "cell_type": "code",
   "execution_count": 65,
   "id": "18d21c21",
   "metadata": {
    "scrolled": true
   },
   "outputs": [
    {
     "data": {
      "text/html": [
       "<div>\n",
       "<style scoped>\n",
       "    .dataframe tbody tr th:only-of-type {\n",
       "        vertical-align: middle;\n",
       "    }\n",
       "\n",
       "    .dataframe tbody tr th {\n",
       "        vertical-align: top;\n",
       "    }\n",
       "\n",
       "    .dataframe thead th {\n",
       "        text-align: right;\n",
       "    }\n",
       "</style>\n",
       "<table border=\"1\" class=\"dataframe\">\n",
       "  <thead>\n",
       "    <tr style=\"text-align: right;\">\n",
       "      <th></th>\n",
       "      <th>id</th>\n",
       "      <th>gender</th>\n",
       "      <th>age</th>\n",
       "    </tr>\n",
       "  </thead>\n",
       "  <tbody>\n",
       "    <tr>\n",
       "      <th>0</th>\n",
       "      <td>3378</td>\n",
       "      <td>0</td>\n",
       "      <td>34</td>\n",
       "    </tr>\n",
       "    <tr>\n",
       "      <th>1</th>\n",
       "      <td>9448</td>\n",
       "      <td>0</td>\n",
       "      <td>89</td>\n",
       "    </tr>\n",
       "    <tr>\n",
       "      <th>2</th>\n",
       "      <td>1196</td>\n",
       "      <td>0</td>\n",
       "      <td>32</td>\n",
       "    </tr>\n",
       "    <tr>\n",
       "      <th>3</th>\n",
       "      <td>1039</td>\n",
       "      <td>0</td>\n",
       "      <td>50</td>\n",
       "    </tr>\n",
       "  </tbody>\n",
       "</table>\n",
       "</div>"
      ],
      "text/plain": [
       "     id  gender  age\n",
       "0  3378       0   34\n",
       "1  9448       0   89\n",
       "2  1196       0   32\n",
       "3  1039       0   50"
      ]
     },
     "execution_count": 65,
     "metadata": {},
     "output_type": "execute_result"
    }
   ],
   "source": [
    "\n",
    "ard.id =np.random.randint(1000,9999,4)\n",
    "ard.gender = np.random.randint(0,1,4)\n",
    "ard.age = np.random.randint(1,100,4)\n",
    "df3 = ard[['id','gender','age']]\n",
    "df3"
   ]
  },
  {
   "cell_type": "code",
   "execution_count": 74,
   "id": "96a6b260",
   "metadata": {},
   "outputs": [],
   "source": [
    "# 배열에서 정렬한 후 50%에 해당하는 원소만 출력\n",
    "large_ar = np.random.randn(1000)\n",
    "large_ar.sort()"
   ]
  },
  {
   "cell_type": "code",
   "execution_count": 75,
   "id": "204730d0",
   "metadata": {},
   "outputs": [
    {
     "data": {
      "text/plain": [
       "-0.11046883877018035"
      ]
     },
     "execution_count": 75,
     "metadata": {},
     "output_type": "execute_result"
    }
   ],
   "source": [
    "large_ar[int(0.5*len(large_ar))]"
   ]
  },
  {
   "cell_type": "code",
   "execution_count": 76,
   "id": "a4d3da88",
   "metadata": {},
   "outputs": [
    {
     "data": {
      "text/plain": [
       "array(['Bob', 'Joe', 'Will'], dtype='<U4')"
      ]
     },
     "execution_count": 76,
     "metadata": {},
     "output_type": "execute_result"
    }
   ],
   "source": [
    "# 배열 집합 연산\n",
    "names = np.array(['Bob','Joe','Will','Joe','Joe'])\n",
    "np.unique(names)"
   ]
  },
  {
   "cell_type": "code",
   "execution_count": 77,
   "id": "cb9e1aad",
   "metadata": {},
   "outputs": [
    {
     "data": {
      "text/plain": [
       "['Bob', 'Joe', 'Will']"
      ]
     },
     "execution_count": 77,
     "metadata": {},
     "output_type": "execute_result"
    }
   ],
   "source": [
    "names = np.array(['Bob','Joe','Will','Joe','Joe'])\n",
    "sorted(set(names))"
   ]
  },
  {
   "cell_type": "code",
   "execution_count": 78,
   "id": "156baaa7",
   "metadata": {},
   "outputs": [
    {
     "data": {
      "text/plain": [
       "array([ True, False, False,  True,  True, False,  True])"
      ]
     },
     "execution_count": 78,
     "metadata": {},
     "output_type": "execute_result"
    }
   ],
   "source": [
    "# 첫번째 배열의 원소가 두번째 배열의 원소를 포함하는지 알려주는 불리언 배열을 반환\n",
    "values = np.array([6,0,0,3,2,5,6])\n",
    "np.in1d(values, [2,3,6]) #인원드\n"
   ]
  },
  {
   "cell_type": "code",
   "execution_count": 79,
   "id": "f89f74b7",
   "metadata": {},
   "outputs": [],
   "source": [
    "# 배열 데이터의 입출력\n",
    "ar = np.arange(10)\n",
    "np.save('some_ar',ar)"
   ]
  },
  {
   "cell_type": "code",
   "execution_count": 82,
   "id": "1b45956d",
   "metadata": {},
   "outputs": [
    {
     "data": {
      "text/plain": [
       "array([0, 1, 2, 3, 4, 5, 6, 7, 8, 9])"
      ]
     },
     "execution_count": 82,
     "metadata": {},
     "output_type": "execute_result"
    }
   ],
   "source": [
    "np.load('some_ar.npy')"
   ]
  },
  {
   "cell_type": "code",
   "execution_count": 83,
   "id": "81ef69b2",
   "metadata": {},
   "outputs": [],
   "source": [
    "# np.savez : 여러 개의 배열을 압축된 형식으로 저장\n",
    "np.savez('ar_archive.npz',a = ar, b=ar)"
   ]
  },
  {
   "cell_type": "code",
   "execution_count": 85,
   "id": "ee2e3809",
   "metadata": {},
   "outputs": [
    {
     "data": {
      "text/plain": [
       "array([0, 1, 2, 3, 4, 5, 6, 7, 8, 9])"
      ]
     },
     "execution_count": 85,
     "metadata": {},
     "output_type": "execute_result"
    }
   ],
   "source": [
    "arch = np.load('ar_archive.npz')\n",
    "arch['b']"
   ]
  },
  {
   "cell_type": "code",
   "execution_count": 89,
   "id": "aad847bf",
   "metadata": {},
   "outputs": [
    {
     "name": "stdout",
     "output_type": "stream",
     "text": [
      "[1 2 3 4 5 6 7 8 9] \n",
      "\n"
     ]
    },
    {
     "data": {
      "text/plain": [
       "array([0, 1, 2, 3, 4, 5, 6, 7, 8], dtype=int64)"
      ]
     },
     "execution_count": 89,
     "metadata": {},
     "output_type": "execute_result"
    }
   ],
   "source": [
    "a = np.arange(1,10)\n",
    "print(a,'\\n')\n",
    "np.argsort(a)"
   ]
  },
  {
   "cell_type": "code",
   "execution_count": 102,
   "id": "16565825",
   "metadata": {},
   "outputs": [
    {
     "data": {
      "text/plain": [
       "array([8, 7, 6, 5, 4, 3, 2, 1, 0], dtype=int64)"
      ]
     },
     "execution_count": 102,
     "metadata": {},
     "output_type": "execute_result"
    }
   ],
   "source": [
    "#인덱스 배열을 역순으로 출력\n",
    "np.argsort(a)[::-1]"
   ]
  },
  {
   "cell_type": "code",
   "execution_count": 98,
   "id": "fff3079b",
   "metadata": {},
   "outputs": [
    {
     "data": {
      "text/plain": [
       "array([0, 2, 4, 6, 8], dtype=int64)"
      ]
     },
     "execution_count": 98,
     "metadata": {},
     "output_type": "execute_result"
    }
   ],
   "source": [
    "np.argsort(a)[::2]"
   ]
  },
  {
   "cell_type": "markdown",
   "id": "e59f511e",
   "metadata": {},
   "source": [
    "### 도전과제(7/6)\n",
    "- np.arange(336).reshape(6,7,8)에서 100번째 요소의 인덱스를 구하세요.\n",
    "- np.arange(4)을 이용해서 아래와 같이 출력하세요."
   ]
  },
  {
   "cell_type": "code",
   "execution_count": null,
   "id": "d6936232",
   "metadata": {},
   "outputs": [],
   "source": [
    "array([[0, 0, 0, 0, 0],\n",
    "       [1, 0, 0, 0, 0],\n",
    "       [0, 2, 0, 0, 0],\n",
    "       [0, 0, 3, 0, 0],\n",
    "       [0, 0, 0, 4, 0]])"
   ]
  },
  {
   "cell_type": "code",
   "execution_count": 192,
   "id": "e129eb51",
   "metadata": {},
   "outputs": [
    {
     "data": {
      "text/plain": [
       "(array([1], dtype=int64), array([5], dtype=int64), array([4], dtype=int64))"
      ]
     },
     "execution_count": 192,
     "metadata": {},
     "output_type": "execute_result"
    }
   ],
   "source": [
    "#np.arange(336).reshape(6,7,8)에서 100번째 요소의 인덱스를 구하세요.\n",
    "ar = np.arange(336).reshape(6,7,8)\n",
    "\n",
    "ar.reshape(-1)[100]\n",
    "np.where(ar == 100)"
   ]
  },
  {
   "cell_type": "code",
   "execution_count": 225,
   "id": "a2411e9c",
   "metadata": {},
   "outputs": [
    {
     "data": {
      "text/plain": [
       "array([[0., 0., 0., 0., 0.],\n",
       "       [1., 0., 0., 0., 0.],\n",
       "       [0., 2., 0., 0., 0.],\n",
       "       [0., 0., 3., 0., 0.],\n",
       "       [0., 0., 0., 4., 0.]])"
      ]
     },
     "execution_count": 225,
     "metadata": {},
     "output_type": "execute_result"
    }
   ],
   "source": [
    "#np.arange(4)을 이용해서 아래와 같이 출력하세요.\n",
    "arr = np.eye(5,k=-1)\n",
    "ar = np.arange(1,6)\n",
    "arr*ar"
   ]
  },
  {
   "cell_type": "code",
   "execution_count": null,
   "id": "ff361408",
   "metadata": {},
   "outputs": [],
   "source": [
    "# Q 0~10 정수 (5,5) 행렬의 역행렬을 구한 후, 두 행렬 간의 행렬 곱을 구하세요."
   ]
  },
  {
   "cell_type": "code",
   "execution_count": 123,
   "id": "efd5e2da",
   "metadata": {},
   "outputs": [
    {
     "name": "stdout",
     "output_type": "stream",
     "text": [
      "[[-0.18879498  0.01090513  0.28912214 -0.0881952  -0.05684297]\n",
      " [ 0.05534351  0.00763359 -0.1851145   0.15076336  0.04770992]\n",
      " [-0.00845147  0.01853871 -0.02099237 -0.06243184  0.11586696]\n",
      " [ 0.1778217   0.13413304 -0.24379771  0.01519902 -0.09916848]\n",
      " [ 0.04423391 -0.05670665  0.13406489 -0.00388495 -0.04191658]] \n",
      "\n",
      "[[ 1.00000000e+00 -2.08166817e-17  0.00000000e+00 -2.64545330e-17\n",
      "  -1.38777878e-17]\n",
      " [ 1.38777878e-17  1.00000000e+00 -2.22044605e-16 -6.28837260e-17\n",
      "  -1.24900090e-16]\n",
      " [ 5.55111512e-17 -5.55111512e-17  1.00000000e+00 -5.89805982e-17\n",
      "   0.00000000e+00]\n",
      " [ 6.93889390e-17  6.24500451e-17 -2.22044605e-16  1.00000000e+00\n",
      "  -1.38777878e-17]\n",
      " [ 5.55111512e-17  0.00000000e+00 -2.22044605e-16 -5.72458747e-17\n",
      "   1.00000000e+00]]\n"
     ]
    }
   ],
   "source": [
    "ab= np.random.randint(0,11,size=(5,5))\n",
    "ab2 = np.linalg.inv(ab)\n",
    "print(ab2, '\\n')\n",
    "ap = np.dot(ab,ab2)\n",
    "print(ap)"
   ]
  },
  {
   "cell_type": "markdown",
   "id": "a198f341",
   "metadata": {},
   "source": [
    "### 과제(7/6)\n"
   ]
  },
  {
   "cell_type": "markdown",
   "id": "7c7e3ba3",
   "metadata": {},
   "source": [
    "### 아래 가이드에 따라서 고객별 연간 구매데이터를 생성하고 아래사항을 수행하세요(관측치 1000개)\n",
    "\n",
    "#### Q1. 고객 속성(id, 성별, 연령, 거주지역) 데이터와 거래 데이터를 통합한 데이터 프레임 df를 생성하세요.\n",
    "\n",
    "거래 번호\n",
    "- id : 1 ~ 1000번 일련번호 - 개시 후 1천 건의 거래가 있었고 걍 거기에 넘버링한 거라고 이해해보자\n",
    "\n",
    "고객별 속성 데이터\n",
    "- cusno : 고객번호 1000개 랜덤\n",
    "- gender : 0,1 정수 난수 생성\n",
    "- age : 0 ~ 80사이 정수 난수 생성\n",
    "- region : 1 ~ 10 사이 정수 난수 생성\n",
    "\n",
    "거래 데이터\n",
    "- product_20 : 고가제품(10), 중가제품(20), 저가제품(30)로 구분제품코드 10,20,30\n",
    "- product_21 : 고가제품(10), 중가제품(20), 저가제품(30)로 구분제품코드 10,20,30\n",
    "- price_20 : 1000 ~ 50000 사이 실수 난수 생성\n",
    "- price_21 : 1000 ~ 50000 사이 실수 난수 생성\n",
    "- quantity_20 : 1 ~ 100 사이 정수 난수 생성\n",
    "- quantity_21 : 1 ~ 100 사이 정수 난수 생성\n",
    "- amount_20 : price_20 * quantity_20\n",
    "- amount_21 : price_21 * quantity_21\n",
    "- sales : 20년 대비 21년구매금액이 증가면 1, 감소면 0\n",
    "\n",
    "#### Q2. df를 수정하여 5가지 이상의 인사이트를 포함한 데이터 셋으로 변환하세요\n",
    "\n",
    "#### Q3. df 를 탐색적 분석을 통하여 인사이트를 도출하세요.\n"
   ]
  },
  {
   "cell_type": "code",
   "execution_count": 9,
   "id": "1d4a2aa2",
   "metadata": {},
   "outputs": [
    {
     "data": {
      "text/html": [
       "<div>\n",
       "<style scoped>\n",
       "    .dataframe tbody tr th:only-of-type {\n",
       "        vertical-align: middle;\n",
       "    }\n",
       "\n",
       "    .dataframe tbody tr th {\n",
       "        vertical-align: top;\n",
       "    }\n",
       "\n",
       "    .dataframe thead th {\n",
       "        text-align: right;\n",
       "    }\n",
       "</style>\n",
       "<table border=\"1\" class=\"dataframe\">\n",
       "  <thead>\n",
       "    <tr style=\"text-align: right;\">\n",
       "      <th></th>\n",
       "      <th>cusno</th>\n",
       "      <th>gender</th>\n",
       "      <th>age</th>\n",
       "      <th>region</th>\n",
       "      <th>product_20</th>\n",
       "      <th>product_21</th>\n",
       "      <th>price_20</th>\n",
       "      <th>price_21</th>\n",
       "      <th>quantity_20</th>\n",
       "      <th>quantity_21</th>\n",
       "      <th>amount_20</th>\n",
       "      <th>amount_21</th>\n",
       "      <th>sales</th>\n",
       "    </tr>\n",
       "    <tr>\n",
       "      <th>ID</th>\n",
       "      <th></th>\n",
       "      <th></th>\n",
       "      <th></th>\n",
       "      <th></th>\n",
       "      <th></th>\n",
       "      <th></th>\n",
       "      <th></th>\n",
       "      <th></th>\n",
       "      <th></th>\n",
       "      <th></th>\n",
       "      <th></th>\n",
       "      <th></th>\n",
       "      <th></th>\n",
       "    </tr>\n",
       "  </thead>\n",
       "  <tbody>\n",
       "    <tr>\n",
       "      <th>1</th>\n",
       "      <td>0.548814</td>\n",
       "      <td>0.715189</td>\n",
       "      <td>0.602763</td>\n",
       "      <td>0.544883</td>\n",
       "      <td>0.423655</td>\n",
       "      <td>0.645894</td>\n",
       "      <td>0.437587</td>\n",
       "      <td>0.891773</td>\n",
       "      <td>0.963663</td>\n",
       "      <td>0.383442</td>\n",
       "      <td>0.791725</td>\n",
       "      <td>0.528895</td>\n",
       "      <td>0.568045</td>\n",
       "    </tr>\n",
       "    <tr>\n",
       "      <th>2</th>\n",
       "      <td>0.925597</td>\n",
       "      <td>0.071036</td>\n",
       "      <td>0.087129</td>\n",
       "      <td>0.020218</td>\n",
       "      <td>0.832620</td>\n",
       "      <td>0.778157</td>\n",
       "      <td>0.870012</td>\n",
       "      <td>0.978618</td>\n",
       "      <td>0.799159</td>\n",
       "      <td>0.461479</td>\n",
       "      <td>0.780529</td>\n",
       "      <td>0.118274</td>\n",
       "      <td>0.639921</td>\n",
       "    </tr>\n",
       "    <tr>\n",
       "      <th>3</th>\n",
       "      <td>0.143353</td>\n",
       "      <td>0.944669</td>\n",
       "      <td>0.521848</td>\n",
       "      <td>0.414662</td>\n",
       "      <td>0.264556</td>\n",
       "      <td>0.774234</td>\n",
       "      <td>0.456150</td>\n",
       "      <td>0.568434</td>\n",
       "      <td>0.018790</td>\n",
       "      <td>0.617635</td>\n",
       "      <td>0.612096</td>\n",
       "      <td>0.616934</td>\n",
       "      <td>0.943748</td>\n",
       "    </tr>\n",
       "    <tr>\n",
       "      <th>4</th>\n",
       "      <td>0.681820</td>\n",
       "      <td>0.359508</td>\n",
       "      <td>0.437032</td>\n",
       "      <td>0.697631</td>\n",
       "      <td>0.060225</td>\n",
       "      <td>0.666767</td>\n",
       "      <td>0.670638</td>\n",
       "      <td>0.210383</td>\n",
       "      <td>0.128926</td>\n",
       "      <td>0.315428</td>\n",
       "      <td>0.363711</td>\n",
       "      <td>0.570197</td>\n",
       "      <td>0.438602</td>\n",
       "    </tr>\n",
       "    <tr>\n",
       "      <th>5</th>\n",
       "      <td>0.988374</td>\n",
       "      <td>0.102045</td>\n",
       "      <td>0.208877</td>\n",
       "      <td>0.161310</td>\n",
       "      <td>0.653108</td>\n",
       "      <td>0.253292</td>\n",
       "      <td>0.466311</td>\n",
       "      <td>0.244426</td>\n",
       "      <td>0.158970</td>\n",
       "      <td>0.110375</td>\n",
       "      <td>0.656330</td>\n",
       "      <td>0.138183</td>\n",
       "      <td>0.196582</td>\n",
       "    </tr>\n",
       "  </tbody>\n",
       "</table>\n",
       "</div>"
      ],
      "text/plain": [
       "       cusno    gender       age    region  product_20  product_21  price_20  \\\n",
       "ID                                                                             \n",
       "1   0.548814  0.715189  0.602763  0.544883    0.423655    0.645894  0.437587   \n",
       "2   0.925597  0.071036  0.087129  0.020218    0.832620    0.778157  0.870012   \n",
       "3   0.143353  0.944669  0.521848  0.414662    0.264556    0.774234  0.456150   \n",
       "4   0.681820  0.359508  0.437032  0.697631    0.060225    0.666767  0.670638   \n",
       "5   0.988374  0.102045  0.208877  0.161310    0.653108    0.253292  0.466311   \n",
       "\n",
       "    price_21  quantity_20  quantity_21  amount_20  amount_21     sales  \n",
       "ID                                                                      \n",
       "1   0.891773     0.963663     0.383442   0.791725   0.528895  0.568045  \n",
       "2   0.978618     0.799159     0.461479   0.780529   0.118274  0.639921  \n",
       "3   0.568434     0.018790     0.617635   0.612096   0.616934  0.943748  \n",
       "4   0.210383     0.128926     0.315428   0.363711   0.570197  0.438602  \n",
       "5   0.244426     0.158970     0.110375   0.656330   0.138183  0.196582  "
      ]
     },
     "execution_count": 9,
     "metadata": {},
     "output_type": "execute_result"
    }
   ],
   "source": [
    "import pandas as pd\n",
    "import numpy as np\n",
    "import random\n",
    "np.random.seed(0)\n",
    "ar = np.random.rand(1000,13)\n",
    "\n",
    "ard = pd.DataFrame(ar, index = range(1,1001), \n",
    "                   columns = [\"cusno\", \"gender\",'age','region','product_20','product_21','price_20','price_21','quantity_20','quantity_21','amount_20','amount_21','sales'])\n",
    "ard.index.name = \"ID\"\n",
    "ard.head()"
   ]
  },
  {
   "cell_type": "code",
   "execution_count": 10,
   "id": "54629bf8",
   "metadata": {},
   "outputs": [],
   "source": [
    "li = []\n",
    "for i in range(1000, 2001):\n",
    "    li.append(i)\n",
    "ard.cusno = random.sample(li,1000)\n",
    "ard.gender = np.random.randint(0,2,1000)\n",
    "ard.age = np.random.randint(0,81,1000)\n",
    "ard.region = np.random.randint(1,11,1000)"
   ]
  },
  {
   "cell_type": "code",
   "execution_count": 11,
   "id": "ab6e4634",
   "metadata": {},
   "outputs": [],
   "source": [
    "ard.price_20 = np.random.uniform(1000,5001,1000)\n",
    "ard.price_21 = np.random.uniform(1000,5001,1000)\n",
    "ard.quantity_20 = np.random.randint(1,101,1000)\n",
    "ard.quantity_21 = np.random.randint(1,101,1000)\n",
    "\n",
    "ard[\"amount_20\"] = ard.price_20*ard.quantity_20\n",
    "ard[\"amount_21\"] = ard.price_21*ard.quantity_21"
   ]
  },
  {
   "cell_type": "code",
   "execution_count": 12,
   "id": "6d2ec416",
   "metadata": {},
   "outputs": [],
   "source": [
    "ard[\"sales\"] = ard['amount_21']>ard['amount_20']\n",
    "ard['sales'].replace({True : 1, False : 0}, inplace = True)"
   ]
  },
  {
   "cell_type": "code",
   "execution_count": 13,
   "id": "0d96f2c7",
   "metadata": {},
   "outputs": [],
   "source": [
    "count, bin_dividers = np.histogram(ard.price_20, bins = 3)\n",
    "bin_names = ['30','20','10']\n",
    "ard.product_20 = pd.cut(x = ard.price_20,\n",
    "                          bins=bin_dividers,\n",
    "                          labels = bin_names,\n",
    "                          include_lowest = True)"
   ]
  },
  {
   "cell_type": "markdown",
   "id": "de8c2489",
   "metadata": {},
   "source": [
    "bin_dividers = np.linspace(sal.price_20.min(), sal.price_20.max(), 4)\n",
    "bin_names = ['10','20','30']\n",
    "sal['product_20'] = pd.cut(x=sal.price_20,  # 데이터 배열\n",
    "                           bins=bin_dividers,  # 경계값 리스트\n",
    "                           labels=bin_names,  # bin 이름\n",
    "                           include_lowest=True)  # 첫 경계값 포함 여부\n",
    "bin_dividers = np.linspace(sal.price_21.min(), sal.price_21.max(), 4)\n",
    "bin_names = ['10','20','30']\n",
    "sal['product_21'] = pd.cut(x=sal.price_21,  # 데이터 배열\n",
    "                           bins=bin_dividers,  # 경계값 리스트\n",
    "                           labels=bin_names,  # bin 이름\n",
    "                           include_lowest=True)  # 첫 경계값 포함 여부\n",
    "sal\n"
   ]
  },
  {
   "cell_type": "code",
   "execution_count": 14,
   "id": "78b4102f",
   "metadata": {},
   "outputs": [],
   "source": [
    "count, bin_dividers = np.histogram(ard.price_21, bins = 3)\n",
    "bin_names = ['30','20','10']\n",
    "ard.product_21 = pd.cut(x = ard.price_21,\n",
    "                          bins=bin_dividers,\n",
    "                          labels = bin_names,\n",
    "                          include_lowest = True)"
   ]
  },
  {
   "cell_type": "code",
   "execution_count": 18,
   "id": "7b50d6b2",
   "metadata": {
    "scrolled": true
   },
   "outputs": [
    {
     "data": {
      "text/html": [
       "<div>\n",
       "<style scoped>\n",
       "    .dataframe tbody tr th:only-of-type {\n",
       "        vertical-align: middle;\n",
       "    }\n",
       "\n",
       "    .dataframe tbody tr th {\n",
       "        vertical-align: top;\n",
       "    }\n",
       "\n",
       "    .dataframe thead th {\n",
       "        text-align: right;\n",
       "    }\n",
       "</style>\n",
       "<table border=\"1\" class=\"dataframe\">\n",
       "  <thead>\n",
       "    <tr style=\"text-align: right;\">\n",
       "      <th></th>\n",
       "      <th>cusno</th>\n",
       "      <th>gender</th>\n",
       "      <th>age</th>\n",
       "      <th>region</th>\n",
       "      <th>product_20</th>\n",
       "      <th>product_21</th>\n",
       "      <th>price_20</th>\n",
       "      <th>price_21</th>\n",
       "      <th>quantity_20</th>\n",
       "      <th>quantity_21</th>\n",
       "      <th>amount_20</th>\n",
       "      <th>amount_21</th>\n",
       "      <th>sales</th>\n",
       "    </tr>\n",
       "    <tr>\n",
       "      <th>ID</th>\n",
       "      <th></th>\n",
       "      <th></th>\n",
       "      <th></th>\n",
       "      <th></th>\n",
       "      <th></th>\n",
       "      <th></th>\n",
       "      <th></th>\n",
       "      <th></th>\n",
       "      <th></th>\n",
       "      <th></th>\n",
       "      <th></th>\n",
       "      <th></th>\n",
       "      <th></th>\n",
       "    </tr>\n",
       "  </thead>\n",
       "  <tbody>\n",
       "    <tr>\n",
       "      <th>1</th>\n",
       "      <td>1316</td>\n",
       "      <td>1</td>\n",
       "      <td>41</td>\n",
       "      <td>3</td>\n",
       "      <td>10</td>\n",
       "      <td>20</td>\n",
       "      <td>3755.464364</td>\n",
       "      <td>3011.357074</td>\n",
       "      <td>100</td>\n",
       "      <td>36</td>\n",
       "      <td>375546.436437</td>\n",
       "      <td>108408.854650</td>\n",
       "      <td>0</td>\n",
       "    </tr>\n",
       "    <tr>\n",
       "      <th>2</th>\n",
       "      <td>1266</td>\n",
       "      <td>0</td>\n",
       "      <td>12</td>\n",
       "      <td>2</td>\n",
       "      <td>30</td>\n",
       "      <td>30</td>\n",
       "      <td>1204.099889</td>\n",
       "      <td>2322.295750</td>\n",
       "      <td>38</td>\n",
       "      <td>65</td>\n",
       "      <td>45755.795799</td>\n",
       "      <td>150949.223763</td>\n",
       "      <td>1</td>\n",
       "    </tr>\n",
       "    <tr>\n",
       "      <th>3</th>\n",
       "      <td>1713</td>\n",
       "      <td>0</td>\n",
       "      <td>38</td>\n",
       "      <td>5</td>\n",
       "      <td>30</td>\n",
       "      <td>10</td>\n",
       "      <td>1249.915198</td>\n",
       "      <td>3701.383627</td>\n",
       "      <td>94</td>\n",
       "      <td>45</td>\n",
       "      <td>117492.028641</td>\n",
       "      <td>166562.263198</td>\n",
       "      <td>1</td>\n",
       "    </tr>\n",
       "    <tr>\n",
       "      <th>4</th>\n",
       "      <td>1372</td>\n",
       "      <td>0</td>\n",
       "      <td>18</td>\n",
       "      <td>10</td>\n",
       "      <td>30</td>\n",
       "      <td>20</td>\n",
       "      <td>1776.698013</td>\n",
       "      <td>2391.231390</td>\n",
       "      <td>26</td>\n",
       "      <td>94</td>\n",
       "      <td>46194.148334</td>\n",
       "      <td>224775.750665</td>\n",
       "      <td>1</td>\n",
       "    </tr>\n",
       "    <tr>\n",
       "      <th>5</th>\n",
       "      <td>1166</td>\n",
       "      <td>0</td>\n",
       "      <td>41</td>\n",
       "      <td>6</td>\n",
       "      <td>20</td>\n",
       "      <td>30</td>\n",
       "      <td>3350.212178</td>\n",
       "      <td>1172.358685</td>\n",
       "      <td>38</td>\n",
       "      <td>45</td>\n",
       "      <td>127308.062747</td>\n",
       "      <td>52756.140836</td>\n",
       "      <td>0</td>\n",
       "    </tr>\n",
       "  </tbody>\n",
       "</table>\n",
       "</div>"
      ],
      "text/plain": [
       "    cusno  gender  age  region product_20 product_21     price_20  \\\n",
       "ID                                                                  \n",
       "1    1316       1   41       3         10         20  3755.464364   \n",
       "2    1266       0   12       2         30         30  1204.099889   \n",
       "3    1713       0   38       5         30         10  1249.915198   \n",
       "4    1372       0   18      10         30         20  1776.698013   \n",
       "5    1166       0   41       6         20         30  3350.212178   \n",
       "\n",
       "       price_21  quantity_20  quantity_21      amount_20      amount_21  sales  \n",
       "ID                                                                              \n",
       "1   3011.357074          100           36  375546.436437  108408.854650      0  \n",
       "2   2322.295750           38           65   45755.795799  150949.223763      1  \n",
       "3   3701.383627           94           45  117492.028641  166562.263198      1  \n",
       "4   2391.231390           26           94   46194.148334  224775.750665      1  \n",
       "5   1172.358685           38           45  127308.062747   52756.140836      0  "
      ]
     },
     "execution_count": 18,
     "metadata": {},
     "output_type": "execute_result"
    }
   ],
   "source": [
    "ard.head()"
   ]
  },
  {
   "cell_type": "code",
   "execution_count": 19,
   "id": "305dc1f5",
   "metadata": {},
   "outputs": [],
   "source": [
    "insite_df = ard.copy()"
   ]
  },
  {
   "cell_type": "code",
   "execution_count": 20,
   "id": "a12fc815",
   "metadata": {},
   "outputs": [],
   "source": [
    "#1\n",
    "count, bin_dividers = np.histogram(insite_df.amount_20, bins = 3)\n",
    "bin_names = ['Bronz','Silver','Gold']\n",
    "insite_df.product_20 = pd.cut(x = insite_df.amount_20,\n",
    "                          bins=bin_dividers,\n",
    "                          labels = bin_names,\n",
    "                          include_lowest = True)"
   ]
  },
  {
   "cell_type": "code",
   "execution_count": 21,
   "id": "fe15df68",
   "metadata": {},
   "outputs": [],
   "source": [
    "count, bin_dividers = np.histogram(insite_df.amount_21, bins = 3)\n",
    "bin_names = ['Bronz','Silver','Gold']\n",
    "insite_df.product_21 = pd.cut(x = insite_df.amount_21,\n",
    "                          bins=bin_dividers,\n",
    "                          labels = bin_names,\n",
    "                          include_lowest = True)"
   ]
  },
  {
   "cell_type": "code",
   "execution_count": 22,
   "id": "012547d8",
   "metadata": {},
   "outputs": [],
   "source": [
    "#2\n",
    "insite_df.rename(columns = {\"product_20\" : \"Grade_20\",\"product_21\" : \"Grade_21\",\"quantity_20\":\"visit_20\",\"quantity_21\":\"visit_21\"}, inplace = True)"
   ]
  },
  {
   "cell_type": "code",
   "execution_count": 23,
   "id": "0895f174",
   "metadata": {},
   "outputs": [
    {
     "data": {
      "text/html": [
       "<div>\n",
       "<style scoped>\n",
       "    .dataframe tbody tr th:only-of-type {\n",
       "        vertical-align: middle;\n",
       "    }\n",
       "\n",
       "    .dataframe tbody tr th {\n",
       "        vertical-align: top;\n",
       "    }\n",
       "\n",
       "    .dataframe thead th {\n",
       "        text-align: right;\n",
       "    }\n",
       "</style>\n",
       "<table border=\"1\" class=\"dataframe\">\n",
       "  <thead>\n",
       "    <tr style=\"text-align: right;\">\n",
       "      <th></th>\n",
       "      <th>cusno</th>\n",
       "      <th>gender</th>\n",
       "      <th>age</th>\n",
       "      <th>region</th>\n",
       "      <th>Grade_20</th>\n",
       "      <th>Grade_21</th>\n",
       "      <th>price_20</th>\n",
       "      <th>price_21</th>\n",
       "      <th>visit_20</th>\n",
       "      <th>visit_21</th>\n",
       "      <th>amount_20</th>\n",
       "      <th>amount_21</th>\n",
       "      <th>sales</th>\n",
       "    </tr>\n",
       "    <tr>\n",
       "      <th>ID</th>\n",
       "      <th></th>\n",
       "      <th></th>\n",
       "      <th></th>\n",
       "      <th></th>\n",
       "      <th></th>\n",
       "      <th></th>\n",
       "      <th></th>\n",
       "      <th></th>\n",
       "      <th></th>\n",
       "      <th></th>\n",
       "      <th></th>\n",
       "      <th></th>\n",
       "      <th></th>\n",
       "    </tr>\n",
       "  </thead>\n",
       "  <tbody>\n",
       "    <tr>\n",
       "      <th>1</th>\n",
       "      <td>1316</td>\n",
       "      <td>1</td>\n",
       "      <td>41</td>\n",
       "      <td>3</td>\n",
       "      <td>Gold</td>\n",
       "      <td>Bronz</td>\n",
       "      <td>3755.464364</td>\n",
       "      <td>3011.357074</td>\n",
       "      <td>100</td>\n",
       "      <td>36</td>\n",
       "      <td>375546.436437</td>\n",
       "      <td>108408.854650</td>\n",
       "      <td>0</td>\n",
       "    </tr>\n",
       "    <tr>\n",
       "      <th>2</th>\n",
       "      <td>1266</td>\n",
       "      <td>0</td>\n",
       "      <td>12</td>\n",
       "      <td>2</td>\n",
       "      <td>Bronz</td>\n",
       "      <td>Bronz</td>\n",
       "      <td>1204.099889</td>\n",
       "      <td>2322.295750</td>\n",
       "      <td>38</td>\n",
       "      <td>65</td>\n",
       "      <td>45755.795799</td>\n",
       "      <td>150949.223763</td>\n",
       "      <td>1</td>\n",
       "    </tr>\n",
       "    <tr>\n",
       "      <th>3</th>\n",
       "      <td>1713</td>\n",
       "      <td>0</td>\n",
       "      <td>38</td>\n",
       "      <td>5</td>\n",
       "      <td>Bronz</td>\n",
       "      <td>Silver</td>\n",
       "      <td>1249.915198</td>\n",
       "      <td>3701.383627</td>\n",
       "      <td>94</td>\n",
       "      <td>45</td>\n",
       "      <td>117492.028641</td>\n",
       "      <td>166562.263198</td>\n",
       "      <td>1</td>\n",
       "    </tr>\n",
       "    <tr>\n",
       "      <th>4</th>\n",
       "      <td>1372</td>\n",
       "      <td>0</td>\n",
       "      <td>18</td>\n",
       "      <td>10</td>\n",
       "      <td>Bronz</td>\n",
       "      <td>Silver</td>\n",
       "      <td>1776.698013</td>\n",
       "      <td>2391.231390</td>\n",
       "      <td>26</td>\n",
       "      <td>94</td>\n",
       "      <td>46194.148334</td>\n",
       "      <td>224775.750665</td>\n",
       "      <td>1</td>\n",
       "    </tr>\n",
       "    <tr>\n",
       "      <th>5</th>\n",
       "      <td>1166</td>\n",
       "      <td>0</td>\n",
       "      <td>41</td>\n",
       "      <td>6</td>\n",
       "      <td>Bronz</td>\n",
       "      <td>Bronz</td>\n",
       "      <td>3350.212178</td>\n",
       "      <td>1172.358685</td>\n",
       "      <td>38</td>\n",
       "      <td>45</td>\n",
       "      <td>127308.062747</td>\n",
       "      <td>52756.140836</td>\n",
       "      <td>0</td>\n",
       "    </tr>\n",
       "  </tbody>\n",
       "</table>\n",
       "</div>"
      ],
      "text/plain": [
       "    cusno  gender  age  region Grade_20 Grade_21     price_20     price_21  \\\n",
       "ID                                                                           \n",
       "1    1316       1   41       3     Gold    Bronz  3755.464364  3011.357074   \n",
       "2    1266       0   12       2    Bronz    Bronz  1204.099889  2322.295750   \n",
       "3    1713       0   38       5    Bronz   Silver  1249.915198  3701.383627   \n",
       "4    1372       0   18      10    Bronz   Silver  1776.698013  2391.231390   \n",
       "5    1166       0   41       6    Bronz    Bronz  3350.212178  1172.358685   \n",
       "\n",
       "    visit_20  visit_21      amount_20      amount_21  sales  \n",
       "ID                                                           \n",
       "1        100        36  375546.436437  108408.854650      0  \n",
       "2         38        65   45755.795799  150949.223763      1  \n",
       "3         94        45  117492.028641  166562.263198      1  \n",
       "4         26        94   46194.148334  224775.750665      1  \n",
       "5         38        45  127308.062747   52756.140836      0  "
      ]
     },
     "execution_count": 23,
     "metadata": {},
     "output_type": "execute_result"
    }
   ],
   "source": [
    "insite_df.head()"
   ]
  },
  {
   "cell_type": "code",
   "execution_count": 24,
   "id": "a5cbff03",
   "metadata": {},
   "outputs": [
    {
     "data": {
      "text/plain": [
       "0.242"
      ]
     },
     "execution_count": 24,
     "metadata": {},
     "output_type": "execute_result"
    }
   ],
   "source": [
    "# 여성(1)이면서 구매금액(sales)이 감소한 id\n",
    "wd = insite_df[(insite_df[\"gender\"] == 1)&(insite_df[\"sales\"] == 0)]\n",
    "len(wd)/len(insite_df) #전체 고객 중, 여성이면서 구매금액이 감소한 id"
   ]
  },
  {
   "cell_type": "code",
   "execution_count": 25,
   "id": "ee7e50ab",
   "metadata": {},
   "outputs": [
    {
     "data": {
      "text/plain": [
       "0.25"
      ]
     },
     "execution_count": 25,
     "metadata": {},
     "output_type": "execute_result"
    }
   ],
   "source": [
    "# 남성(0)이면서 구매금액이 감소한 id\n",
    "md = insite_df[(insite_df[\"gender\"] == 0)&(insite_df['sales'] == 0)]\n",
    "md\n",
    "len(md)/len(insite_df)"
   ]
  },
  {
   "cell_type": "code",
   "execution_count": 26,
   "id": "c89c5934",
   "metadata": {},
   "outputs": [
    {
     "data": {
      "text/plain": [
       "0.492"
      ]
     },
     "execution_count": 26,
     "metadata": {},
     "output_type": "execute_result"
    }
   ],
   "source": [
    "#3\n",
    "#여성과 남성의 구매금액 감소 비중이 의미있게 차이나지 않는다.\n",
    "#하지만 전체 고객의 총구매금액 감소 고객의 비중이 49% 정도이다.\n",
    "cd = insite_df[insite_df['sales'] == 0]\n",
    "len(cd)/len(insite_df)\n"
   ]
  },
  {
   "cell_type": "code",
   "execution_count": 27,
   "id": "5417ad53",
   "metadata": {},
   "outputs": [
    {
     "data": {
      "text/plain": [
       "[(('Bronz', 'Bronz'),\n",
       "       cusno  gender  age  region Grade_20 Grade_21     price_20     price_21  \\\n",
       "  ID                                                                            \n",
       "  2     1266       0   12       2    Bronz    Bronz  1204.099889  2322.295750   \n",
       "  5     1166       0   41       6    Bronz    Bronz  3350.212178  1172.358685   \n",
       "  6     1018       1   27       5    Bronz    Bronz  2902.246135  2236.681834   \n",
       "  9     1277       1   10       6    Bronz    Bronz  1158.197047  4190.868383   \n",
       "  11    1710       0   26       4    Bronz    Bronz  1977.751011  2880.398163   \n",
       "  ..     ...     ...  ...     ...      ...      ...          ...          ...   \n",
       "  985   1626       0    4       9    Bronz    Bronz  3933.561390  1950.771233   \n",
       "  987   1648       1   53       2    Bronz    Bronz  1868.078878  4578.749417   \n",
       "  989   1908       1   27       2    Bronz    Bronz  1645.477861  2426.270467   \n",
       "  995   1446       0   15      10    Bronz    Bronz  1349.553026  2035.135039   \n",
       "  998   1981       1   16       7    Bronz    Bronz  2480.574971  2124.710924   \n",
       "  \n",
       "       visit_20  visit_21      amount_20      amount_21  sales  \n",
       "  ID                                                            \n",
       "  2          38        65   45755.795799  150949.223763      1  \n",
       "  5          38        45  127308.062747   52756.140836      0  \n",
       "  6          47        17  136405.568343   38023.591186      0  \n",
       "  9          91        34  105395.931300  142489.525008      1  \n",
       "  11         39        22   77132.289422   63368.759589      0  \n",
       "  ..        ...       ...            ...            ...    ...  \n",
       "  985        39        38  153408.894221   74129.306854      0  \n",
       "  987        50        23   93403.943905  105311.236584      1  \n",
       "  989         3        44    4936.433584  106755.900528      1  \n",
       "  995        96        28  129557.090530   56983.781085      0  \n",
       "  998        34        42   84339.549020   89237.858817      1  \n",
       "  \n",
       "  [377 rows x 13 columns]),\n",
       " (('Bronz', 'Silver'),\n",
       "        cusno  gender  age  region Grade_20 Grade_21     price_20     price_21  \\\n",
       "  ID                                                                             \n",
       "  3      1713       0   38       5    Bronz   Silver  1249.915198  3701.383627   \n",
       "  4      1372       0   18      10    Bronz   Silver  1776.698013  2391.231390   \n",
       "  10     1106       1   65       5    Bronz   Silver  2572.615025  4828.454329   \n",
       "  12     1483       1   21       3    Bronz   Silver  2398.123113  2861.389231   \n",
       "  16     1084       1   48       7    Bronz   Silver  2146.997332  2664.057588   \n",
       "  ...     ...     ...  ...     ...      ...      ...          ...          ...   \n",
       "  983    1788       0   35      10    Bronz   Silver  1038.651491  2998.050329   \n",
       "  992    1552       1   57       4    Bronz   Silver  4492.588017  2726.232957   \n",
       "  994    1718       1   26       2    Bronz   Silver  2599.905080  3190.296917   \n",
       "  997    1551       0   38       1    Bronz   Silver  4671.634395  4883.403901   \n",
       "  1000   1931       1   13       4    Bronz   Silver  1502.842701  3869.682721   \n",
       "  \n",
       "        visit_20  visit_21      amount_20      amount_21  sales  \n",
       "  ID                                                             \n",
       "  3           94        45  117492.028641  166562.263198      1  \n",
       "  4           26        94   46194.148334  224775.750665      1  \n",
       "  10          36        48   92614.140908  231765.807781      1  \n",
       "  12           1        99    2398.123113  283277.533891      1  \n",
       "  16          64        81  137407.829265  215788.664601      1  \n",
       "  ...        ...       ...            ...            ...    ...  \n",
       "  983         32        91   33236.847707  272822.579900      1  \n",
       "  992         13        77   58403.644220  209919.937699      1  \n",
       "  994         55        88  142994.779415  280746.128667      1  \n",
       "  997          1        44    4671.634395  214869.771656      1  \n",
       "  1000        99        55  148781.427401  212832.549631      1  \n",
       "  \n",
       "  [194 rows x 13 columns]),\n",
       " (('Bronz', 'Gold'),\n",
       "       cusno  gender  age  region Grade_20 Grade_21     price_20     price_21  \\\n",
       "  ID                                                                            \n",
       "  29    1365       1   77      10    Bronz     Gold  4615.314361  4362.295718   \n",
       "  38    1553       1   13       6    Bronz     Gold  3592.766919  4800.616393   \n",
       "  92    1738       0   73       6    Bronz     Gold  1597.816861  4817.433152   \n",
       "  104   1951       0   66       4    Bronz     Gold  4729.892322  4934.742331   \n",
       "  108   1270       0   25       8    Bronz     Gold  1724.741328  4348.002233   \n",
       "  ..     ...     ...  ...     ...      ...      ...          ...          ...   \n",
       "  851   1576       0   74       8    Bronz     Gold  4794.290548  4832.922613   \n",
       "  854   1498       1   62       2    Bronz     Gold  1270.322490  4958.036480   \n",
       "  890   1029       1   12       7    Bronz     Gold  4523.395423  4866.765183   \n",
       "  904   1589       0    9       8    Bronz     Gold  1378.375502  3227.925829   \n",
       "  906   1944       0   24      10    Bronz     Gold  1039.206781  4610.453536   \n",
       "  \n",
       "       visit_20  visit_21      amount_20      amount_21  sales  \n",
       "  ID                                                            \n",
       "  29         20        78   92306.287223  340259.065985      1  \n",
       "  38         29        67  104190.240652  321641.298321      1  \n",
       "  92         18        75   28760.703495  361307.486407      1  \n",
       "  104        19        68   89867.954122  335562.478524      1  \n",
       "  108        51        93   87961.807707  404364.207658      1  \n",
       "  ..        ...       ...            ...            ...    ...  \n",
       "  851         3        97   14382.871645  468793.493448      1  \n",
       "  854        10        71   12703.224898  352020.590086      1  \n",
       "  890        11        74   49757.349654  360140.623533      1  \n",
       "  904        59       100   81324.154595  322792.582906      1  \n",
       "  906        83        87   86254.162800  401109.457622      1  \n",
       "  \n",
       "  [68 rows x 13 columns]),\n",
       " (('Silver', 'Bronz'),\n",
       "       cusno  gender  age  region Grade_20 Grade_21     price_20     price_21  \\\n",
       "  ID                                                                            \n",
       "  7     1893       1    5       9   Silver    Bronz  3649.011808  1438.646418   \n",
       "  8     1767       1   60       6   Silver    Bronz  2235.841801  4908.106477   \n",
       "  14    1825       1   53       4   Silver    Bronz  4754.513501  1701.239790   \n",
       "  20    1603       0   71       1   Silver    Bronz  2680.087424  4286.824886   \n",
       "  21    1997       1   61       6   Silver    Bronz  3786.031124  1766.953051   \n",
       "  ..     ...     ...  ...     ...      ...      ...          ...          ...   \n",
       "  975   1356       0   12      10   Silver    Bronz  2036.621653  1724.648231   \n",
       "  980   1790       1   53       1   Silver    Bronz  4566.725487  4215.534348   \n",
       "  982   1653       1   17       2   Silver    Bronz  4584.731007  3573.493751   \n",
       "  991   1472       0   13       5   Silver    Bronz  2229.775189  2611.562860   \n",
       "  993   1184       1   20      10   Silver    Bronz  4114.207012  1704.451490   \n",
       "  \n",
       "       visit_20  visit_21      amount_20      amount_21  sales  \n",
       "  ID                                                            \n",
       "  7          53        67  193397.625823   96389.309997      0  \n",
       "  8          93         4  207933.287474   19632.425910      0  \n",
       "  14         54        58  256743.729070   98671.907823      0  \n",
       "  20         65        19  174205.682565   81449.672827      0  \n",
       "  21         63        40  238519.960799   70678.122023      0  \n",
       "  ..        ...       ...            ...            ...    ...  \n",
       "  975        96        10  195515.678683   17246.482305      0  \n",
       "  980        50        20  228336.274357   84310.686950      0  \n",
       "  982        70         1  320931.170485    3573.493751      0  \n",
       "  991        88        36  196220.216646   94016.262947      0  \n",
       "  993        74        84  304451.318866  143173.925158      0  \n",
       "  \n",
       "  [176 rows x 13 columns]),\n",
       " (('Silver', 'Silver'),\n",
       "       cusno  gender  age  region Grade_20 Grade_21     price_20     price_21  \\\n",
       "  ID                                                                            \n",
       "  22    1254       0   46       5   Silver   Silver  3958.882458  4879.764565   \n",
       "  34    1880       1   65       3   Silver   Silver  2270.936974  2710.501061   \n",
       "  35    1183       1   52       5   Silver   Silver  2679.055078  3877.887919   \n",
       "  89    1332       1   41       2   Silver   Silver  4789.296395  3486.390642   \n",
       "  146   1394       0   24      10   Silver   Silver  3064.077075  3094.297326   \n",
       "  ..     ...     ...  ...     ...      ...      ...          ...          ...   \n",
       "  923   1545       1   38       1   Silver   Silver  4218.090598  4323.655950   \n",
       "  939   1744       0   44       2   Silver   Silver  2603.535083  2313.491179   \n",
       "  986   1751       0   42       5   Silver   Silver  4781.896998  3808.969291   \n",
       "  988   1948       0   15      10   Silver   Silver  4035.579734  4608.479005   \n",
       "  990   1622       1   69       7   Silver   Silver  2434.980771  3393.488269   \n",
       "  \n",
       "       visit_20  visit_21      amount_20      amount_21  sales  \n",
       "  ID                                                            \n",
       "  22         46        45  182108.593086  219589.405440      1  \n",
       "  34         81        86  183945.894869  233103.091224      1  \n",
       "  35         91        78  243794.012127  302475.257706      1  \n",
       "  89         59        60  282568.487321  209183.438534      0  \n",
       "  146        73        79  223677.626439  244449.488784      1  \n",
       "  ..        ...       ...            ...            ...    ...  \n",
       "  923        54        52  227776.892292  224830.109378      0  \n",
       "  939        70        73  182247.455784  168884.856042      0  \n",
       "  986        56        58  267786.231894  220920.218884      0  \n",
       "  988        79        58  318810.799011  267291.782283      0  \n",
       "  990       100        61  243498.077080  207002.784405      0  \n",
       "  \n",
       "  [75 rows x 13 columns]),\n",
       " (('Silver', 'Gold'),\n",
       "       cusno  gender  age  region Grade_20 Grade_21     price_20     price_21  \\\n",
       "  ID                                                                            \n",
       "  31    1030       0   38       6   Silver     Gold  4914.748142  4916.268517   \n",
       "  45    1407       1   70       1   Silver     Gold  3208.984406  3578.102223   \n",
       "  103   1497       0   56       8   Silver     Gold  3421.500010  4918.402430   \n",
       "  129   1845       1    5       2   Silver     Gold  3291.339964  3255.150325   \n",
       "  171   1271       0   75       7   Silver     Gold  4130.849155  4433.459912   \n",
       "  179   1730       0    7      10   Silver     Gold  3249.610075  4946.071601   \n",
       "  219   1115       0   10       8   Silver     Gold  3905.155185  4778.938329   \n",
       "  237   1404       0   47       3   Silver     Gold  3271.464909  4558.920651   \n",
       "  241   1839       0   55       6   Silver     Gold  4911.578925  4662.122557   \n",
       "  254   1083       0    0       3   Silver     Gold  4991.282791  3548.351951   \n",
       "  257   1620       1   13       9   Silver     Gold  4725.806770  3681.722402   \n",
       "  293   1623       0    3       4   Silver     Gold  3898.014468  4317.529021   \n",
       "  369   1739       0    8      10   Silver     Gold  4892.715825  4343.304361   \n",
       "  415   1550       0    0       9   Silver     Gold  3569.876592  4415.139857   \n",
       "  462   1036       1   65       2   Silver     Gold  2961.898857  4875.467748   \n",
       "  467   1359       0    6       9   Silver     Gold  2797.112636  4236.559332   \n",
       "  480   1392       0    9       3   Silver     Gold  2526.561595  4759.114946   \n",
       "  560   1815       1   50       2   Silver     Gold  3243.258693  3698.639357   \n",
       "  600   1734       0   15       6   Silver     Gold  2889.603357  4659.848551   \n",
       "  645   1174       0   10       4   Silver     Gold  4888.517507  3793.256373   \n",
       "  648   1789       0   67       9   Silver     Gold  3557.469469  4939.619594   \n",
       "  698   1749       0   73       6   Silver     Gold  2253.895412  4786.000032   \n",
       "  712   1872       1   12       8   Silver     Gold  4528.628717  4339.281016   \n",
       "  779   1701       1   24      10   Silver     Gold  3322.959895  4466.012560   \n",
       "  797   1806       0   65       7   Silver     Gold  4199.012795  4708.134788   \n",
       "  800   1994       0   44       4   Silver     Gold  2541.415879  4284.550867   \n",
       "  880   1528       1   49       5   Silver     Gold  2617.107161  4667.609991   \n",
       "  910   1763       0   27       4   Silver     Gold  2876.709112  3751.202962   \n",
       "  \n",
       "       visit_20  visit_21      amount_20      amount_21  sales  \n",
       "  ID                                                            \n",
       "  31         54        79  265396.399684  388385.212880      1  \n",
       "  45         66        90  211792.970812  322029.200097      1  \n",
       "  103        55        78  188182.500539  383635.389560      1  \n",
       "  129        53        98  174441.018107  319004.731815      1  \n",
       "  171        66        98  272636.044199  434479.071389      1  \n",
       "  179        89        85  289215.296682  420416.086071      1  \n",
       "  219        81        90  316317.569974  430104.449633      1  \n",
       "  237        95        87  310789.166350  396626.096657      1  \n",
       "  241        65        81  319252.630105  377631.927108      1  \n",
       "  254        43        95  214625.160031  337093.435371      1  \n",
       "  257        66        94  311903.246797  346081.905807      1  \n",
       "  293        46       100  179308.665547  431752.902095      1  \n",
       "  369        63        84  308241.096947  364837.566285      1  \n",
       "  415        85        90  303439.510334  397362.587136      1  \n",
       "  462        62        88  183637.729163  429041.161825      1  \n",
       "  467        63        77  176218.096074  326215.068572      1  \n",
       "  480        82        95  207178.050764  452115.919913      1  \n",
       "  560        92        91  298379.799783  336576.181484      1  \n",
       "  600        78        69  225389.061813  321529.549990      1  \n",
       "  645        63        92  307976.602948  348979.586339      1  \n",
       "  648        81        90  288155.026986  444565.763431      1  \n",
       "  698        95        77  214120.064180  368522.002472      1  \n",
       "  712        52        77  235488.693289  334124.638212      1  \n",
       "  779        57        98  189408.714012  437669.230895      1  \n",
       "  797        56        78  235144.716547  367234.513472      1  \n",
       "  800        91        85  231268.844995  364186.823722      1  \n",
       "  880       100        81  261710.716083  378076.409248      1  \n",
       "  910        85        88  244520.274480  330105.860616      1  ),\n",
       " (('Gold', 'Bronz'),\n",
       "       cusno  gender  age  region Grade_20 Grade_21     price_20     price_21  \\\n",
       "  ID                                                                            \n",
       "  1     1316       1   41       3     Gold    Bronz  3755.464364  3011.357074   \n",
       "  41    1876       0   54       7     Gold    Bronz  3568.458604  2080.420844   \n",
       "  84    1127       1   63       6     Gold    Bronz  3902.264104  2492.347604   \n",
       "  95    1741       0   69       5     Gold    Bronz  4673.643852  1454.161451   \n",
       "  159   1269       0   11       8     Gold    Bronz  4585.245196  1767.149192   \n",
       "  162   1318       0   73       2     Gold    Bronz  4257.754309  2790.442302   \n",
       "  165   1611       0   67       9     Gold    Bronz  4491.941239  3668.776930   \n",
       "  183   1986       0   29       7     Gold    Bronz  4397.032656  1801.307536   \n",
       "  186   1665       1   56       2     Gold    Bronz  4160.783865  1699.908613   \n",
       "  189   1222       0   32       5     Gold    Bronz  3438.673177  1193.540925   \n",
       "  193   1220       1    9       4     Gold    Bronz  4301.899381  2748.105860   \n",
       "  212   1031       1   12       8     Gold    Bronz  4774.350392  3004.933275   \n",
       "  261   1144       0   70       6     Gold    Bronz  4376.934833  4141.383908   \n",
       "  266   1310       0   52       9     Gold    Bronz  4127.940951  2533.128519   \n",
       "  292   1581       0   51       8     Gold    Bronz  4944.648657  2826.085558   \n",
       "  300   1616       0   31       6     Gold    Bronz  3399.375096  2744.893480   \n",
       "  310   1458       0    1       4     Gold    Bronz  4480.734930  4223.298558   \n",
       "  345   1541       0   66       9     Gold    Bronz  4539.695698  1532.459195   \n",
       "  353   1130       1   68       1     Gold    Bronz  4303.775708  4116.635544   \n",
       "  388   1519       0   49       2     Gold    Bronz  4190.144628  3559.401837   \n",
       "  423   1105       0   46       4     Gold    Bronz  4910.236879  1210.254694   \n",
       "  503   1375       0   49       7     Gold    Bronz  4910.688552  1338.878685   \n",
       "  512   1197       1   27       4     Gold    Bronz  4059.377251  2408.891154   \n",
       "  543   1520       1   11       3     Gold    Bronz  4850.284602  2277.361894   \n",
       "  566   1235       1   25       1     Gold    Bronz  4285.559657  1366.223874   \n",
       "  577   1039       1   30       4     Gold    Bronz  4825.111240  2523.361837   \n",
       "  591   1247       1   20       8     Gold    Bronz  4981.898963  1812.892171   \n",
       "  598   1240       0   44       6     Gold    Bronz  4607.799913  3157.931392   \n",
       "  608   1445       0   59      10     Gold    Bronz  4393.847448  1502.337370   \n",
       "  625   1349       1   33       3     Gold    Bronz  4581.504292  4921.113830   \n",
       "  653   1812       0   77       3     Gold    Bronz  4140.625095  3381.139586   \n",
       "  679   1253       1   38       8     Gold    Bronz  3956.790870  1298.992452   \n",
       "  701   1385       1   56       4     Gold    Bronz  4139.226256  1151.663627   \n",
       "  733   1490       0   41      10     Gold    Bronz  3906.477762  1157.071650   \n",
       "  740   1476       0   41       2     Gold    Bronz  3778.554880  1776.187863   \n",
       "  745   1651       1   56       8     Gold    Bronz  4654.132615  2721.948217   \n",
       "  759   1346       0   74       1     Gold    Bronz  4533.952871  2348.168399   \n",
       "  763   1761       1   19       1     Gold    Bronz  4106.617620  2288.464984   \n",
       "  807   1208       0   16       6     Gold    Bronz  4633.270902  3736.850389   \n",
       "  820   1703       1   65       3     Gold    Bronz  4315.329044  1090.337243   \n",
       "  828   1529       0   25       2     Gold    Bronz  4574.287964  1637.112816   \n",
       "  838   1468       0   27      10     Gold    Bronz  4426.359022  2014.160843   \n",
       "  839   1591       0   58       5     Gold    Bronz  4950.531223  4118.571691   \n",
       "  853   1977       0   34       2     Gold    Bronz  4388.425893  2651.301261   \n",
       "  856   1420       0   76       4     Gold    Bronz  4534.366058  2234.337614   \n",
       "  868   1341       0   80       9     Gold    Bronz  3778.358901  2921.353339   \n",
       "  882   1196       0   76       2     Gold    Bronz  4973.413520  2678.072946   \n",
       "  893   1052       1   80       3     Gold    Bronz  3819.903517  1541.903042   \n",
       "  908   1826       0   72       4     Gold    Bronz  4911.119370  2096.531164   \n",
       "  918   1530       1    6       3     Gold    Bronz  4359.046794  1216.233109   \n",
       "  937   1801       0   11       8     Gold    Bronz  4827.156028  4544.369462   \n",
       "  941   1132       0   30       2     Gold    Bronz  3933.528339  1954.392051   \n",
       "  978   1992       1   36       3     Gold    Bronz  4653.164700  2183.883383   \n",
       "  996   1437       0   38       1     Gold    Bronz  4935.714106  3882.093089   \n",
       "  \n",
       "       visit_20  visit_21      amount_20      amount_21  sales  \n",
       "  ID                                                            \n",
       "  1         100        36  375546.436437  108408.854650      0  \n",
       "  41         99        51  353277.401800  106101.463051      0  \n",
       "  84         94        62  366812.825752  154525.551458      0  \n",
       "  95         76        34  355196.932739   49441.489340      0  \n",
       "  159        91        37  417257.312868   65384.520117      0  \n",
       "  162        78        51  332104.836115  142312.557402      0  \n",
       "  165       100        11  449194.123893   40356.546229      0  \n",
       "  183        97        66  426512.167616  118886.297349      0  \n",
       "  186        99        67  411917.602681  113893.877075      0  \n",
       "  189        99        90  340428.644493  107418.683241      0  \n",
       "  193        90        52  387170.944257  142901.504716      0  \n",
       "  212        95        12  453563.287272   36059.199300      0  \n",
       "  261        91        32  398301.069783  132524.285070      0  \n",
       "  266        91        16  375642.626572   40530.056312      0  \n",
       "  292        90         8  445018.379090   22608.684467      0  \n",
       "  300       100        37  339937.509644  101561.058772      0  \n",
       "  310        74         4  331574.384836   16893.194232      0  \n",
       "  345        94        89  426731.395575  136388.868367      0  \n",
       "  353        83        32  357213.383774  131732.337407      0  \n",
       "  388        97        38  406444.028889  135257.269789      0  \n",
       "  423        69         6  338806.344669    7261.528166      0  \n",
       "  503       100        18  491068.855250   24099.816324      0  \n",
       "  512       100        39  405937.725116   93946.754998      0  \n",
       "  543        82        67  397723.337401  152583.246920      0  \n",
       "  566        88        91  377129.249837  124326.372521      0  \n",
       "  577        94        48  453560.456577  121121.368197      0  \n",
       "  591        80        82  398551.917079  148657.158039      0  \n",
       "  598        92         6  423917.591953   18947.588352      0  \n",
       "  608        85        59  373477.033114   88637.904807      0  \n",
       "  625        84        25  384846.360543  123027.845749      0  \n",
       "  653        91        44  376796.883665  148770.141786      0  \n",
       "  679        84        64  332370.433105   83135.516938      0  \n",
       "  701        90        46  372530.363084   52976.526852      0  \n",
       "  733        87         7  339863.565316    8099.501550      0  \n",
       "  740        96        74  362741.268486  131437.901853      0  \n",
       "  745        95        17  442142.598436   46273.119690      0  \n",
       "  759        81        35  367250.182566   82185.893981      0  \n",
       "  763        96        57  394235.291533  130442.504080      0  \n",
       "  807        89        12  412361.110255   44842.204664      0  \n",
       "  820        95         3  409956.259204    3271.011728      0  \n",
       "  828        80        29  365943.037134   47476.271664      0  \n",
       "  838        88        17  389519.593941   34240.734337      0  \n",
       "  839        92        32  455448.872526  131794.294108      0  \n",
       "  853        80        18  351074.071432   47723.422703      0  \n",
       "  856        88         9  399024.213140   20109.038526      0  \n",
       "  868       100        44  377835.890150  128539.546927      0  \n",
       "  882        99        47  492367.938517  125869.428454      0  \n",
       "  893        99        93  378170.448152  143396.982929      0  \n",
       "  908        89         3  437089.623910    6289.593493      0  \n",
       "  918        95        73  414109.445450   88785.016968      0  \n",
       "  937        86         2  415135.418414    9088.738924      0  \n",
       "  941        96        57  377618.720553  111400.346906      0  \n",
       "  978        92        16  428091.152359   34942.134121      0  \n",
       "  996        87        21  429407.127190   81523.954873      0  ),\n",
       " (('Gold', 'Silver'),\n",
       "       cusno  gender  age  region Grade_20 Grade_21     price_20     price_21  \\\n",
       "  ID                                                                            \n",
       "  44    1792       1   38       5     Gold   Silver  4935.912198  2466.477227   \n",
       "  65    1255       0   57       8     Gold   Silver  4204.830824  4443.709008   \n",
       "  77    1021       0   26       9     Gold   Silver  4971.211483  3781.771224   \n",
       "  82    1918       0   25       1     Gold   Silver  3626.371618  2087.404856   \n",
       "  96    1373       1   18       6     Gold   Silver  4749.107072  2130.026745   \n",
       "  141   1193       1   31       1     Gold   Silver  4670.656222  3156.574774   \n",
       "  420   1726       1   18       1     Gold   Silver  4542.228933  2563.591209   \n",
       "  475   1577       0   78       6     Gold   Silver  4781.870036  4410.644441   \n",
       "  485   1362       0   40      10     Gold   Silver  3867.220599  3914.709131   \n",
       "  563   1883       0   70       2     Gold   Silver  3941.993368  2762.015629   \n",
       "  587   1805       0    3       2     Gold   Silver  4753.138526  2423.999681   \n",
       "  858   1380       0   59       4     Gold   Silver  4129.211478  2955.359266   \n",
       "  864   1305       0   75       6     Gold   Silver  4008.955319  3784.980731   \n",
       "  870   1808       0   44       2     Gold   Silver  3374.103748  2574.098825   \n",
       "  894   1613       0   29       4     Gold   Silver  4988.805783  4531.764391   \n",
       "  931   1334       1   29       6     Gold   Silver  4331.674279  4202.080768   \n",
       "  948   1207       1   24       9     Gold   Silver  4124.324335  3717.217658   \n",
       "  965   1597       0   58       7     Gold   Silver  4394.106833  3608.362893   \n",
       "  973   1860       1   78       8     Gold   Silver  4285.532397  2717.387170   \n",
       "  999   1163       0   42       9     Gold   Silver  3530.401841  3111.787208   \n",
       "  \n",
       "       visit_20  visit_21      amount_20      amount_21  sales  \n",
       "  ID                                                            \n",
       "  44         72        75  355385.678250  184985.791989      0  \n",
       "  65         93        55  391049.266651  244403.995418      0  \n",
       "  77         73        72  362898.438292  272287.528121      0  \n",
       "  82         98        85  355384.418543  177429.412783      0  \n",
       "  96         97        96  460663.386010  204482.567508      0  \n",
       "  141        82        78  382993.810233  246212.832364      0  \n",
       "  420       100        90  454222.893269  230723.208843      0  \n",
       "  475        88        71  420804.563205  313155.755276      0  \n",
       "  485        90        61  348049.853914  238797.256982      0  \n",
       "  563        98        95  386315.350093  262391.484799      0  \n",
       "  587        93        70  442041.882879  169679.977682      0  \n",
       "  858        84        91  346853.764169  268937.693189      0  \n",
       "  864        88        72  352788.068106  272518.612649      0  \n",
       "  870        98        76  330662.167315  195631.510732      0  \n",
       "  894        70        53  349216.404799  240183.512699      0  \n",
       "  931        77        69  333538.919516  289943.572994      0  \n",
       "  948        88        79  362940.541508  293660.194986      0  \n",
       "  965        80        69  351528.546625  248977.039614      0  \n",
       "  973        97        61  415696.642545  165760.617371      0  \n",
       "  999       100        62  353040.184132  192930.806885      0  ),\n",
       " (('Gold', 'Gold'),\n",
       "       cusno  gender  age  region Grade_20 Grade_21     price_20     price_21  \\\n",
       "  ID                                                                            \n",
       "  70    1962       1   37       8     Gold     Gold  4116.310637  4232.750559   \n",
       "  335   1797       1   27       5     Gold     Gold  4812.378869  4889.217452   \n",
       "  359   1205       0   44       2     Gold     Gold  4988.990420  3257.418640   \n",
       "  384   1565       0   43       6     Gold     Gold  4294.084682  4190.599779   \n",
       "  412   1764       1   11       3     Gold     Gold  4168.838177  4945.048050   \n",
       "  472   1621       0   31       5     Gold     Gold  3773.031412  4750.405827   \n",
       "  489   1987       0   36      10     Gold     Gold  4117.462475  3786.017934   \n",
       "  857   1103       0   62       6     Gold     Gold  4941.217520  4269.638014   \n",
       "  \n",
       "       visit_20  visit_21      amount_20      amount_21  sales  \n",
       "  ID                                                            \n",
       "  70         91        81  374584.267953  342852.795287      0  \n",
       "  335        94        89  452363.613690  435140.353243      0  \n",
       "  359        88       100  439031.156933  325741.864022      0  \n",
       "  384        82        87  352114.943949  364582.180812      1  \n",
       "  412        88        75  366857.759601  370878.603776      1  \n",
       "  472        92        98  347118.889919  465539.771087      1  \n",
       "  489        83        97  341749.385457  367243.739559      1  \n",
       "  857        82        90  405179.836645  384267.421276      0  )]"
      ]
     },
     "execution_count": 27,
     "metadata": {},
     "output_type": "execute_result"
    }
   ],
   "source": [
    "GD = insite_df.groupby(['Grade_20', 'Grade_21'])\n",
    "list(GD)"
   ]
  },
  {
   "cell_type": "code",
   "execution_count": 28,
   "id": "4fc8b048",
   "metadata": {},
   "outputs": [
    {
     "name": "stdout",
     "output_type": "stream",
     "text": [
      "* key : ('Bronz', 'Bronz')\n",
      "* number : 377\n",
      "    cusno  gender  age  region Grade_20 Grade_21     price_20     price_21  \\\n",
      "ID                                                                           \n",
      "2    1266       0   12       2    Bronz    Bronz  1204.099889  2322.295750   \n",
      "5    1166       0   41       6    Bronz    Bronz  3350.212178  1172.358685   \n",
      "6    1018       1   27       5    Bronz    Bronz  2902.246135  2236.681834   \n",
      "9    1277       1   10       6    Bronz    Bronz  1158.197047  4190.868383   \n",
      "11   1710       0   26       4    Bronz    Bronz  1977.751011  2880.398163   \n",
      "\n",
      "    visit_20  visit_21      amount_20      amount_21  sales  \n",
      "ID                                                           \n",
      "2         38        65   45755.795799  150949.223763      1  \n",
      "5         38        45  127308.062747   52756.140836      0  \n",
      "6         47        17  136405.568343   38023.591186      0  \n",
      "9         91        34  105395.931300  142489.525008      1  \n",
      "11        39        22   77132.289422   63368.759589      0   \n",
      "\n",
      "* key : ('Bronz', 'Silver')\n",
      "* number : 194\n",
      "    cusno  gender  age  region Grade_20 Grade_21     price_20     price_21  \\\n",
      "ID                                                                           \n",
      "3    1713       0   38       5    Bronz   Silver  1249.915198  3701.383627   \n",
      "4    1372       0   18      10    Bronz   Silver  1776.698013  2391.231390   \n",
      "10   1106       1   65       5    Bronz   Silver  2572.615025  4828.454329   \n",
      "12   1483       1   21       3    Bronz   Silver  2398.123113  2861.389231   \n",
      "16   1084       1   48       7    Bronz   Silver  2146.997332  2664.057588   \n",
      "\n",
      "    visit_20  visit_21      amount_20      amount_21  sales  \n",
      "ID                                                           \n",
      "3         94        45  117492.028641  166562.263198      1  \n",
      "4         26        94   46194.148334  224775.750665      1  \n",
      "10        36        48   92614.140908  231765.807781      1  \n",
      "12         1        99    2398.123113  283277.533891      1  \n",
      "16        64        81  137407.829265  215788.664601      1   \n",
      "\n",
      "* key : ('Bronz', 'Gold')\n",
      "* number : 68\n",
      "     cusno  gender  age  region Grade_20 Grade_21     price_20     price_21  \\\n",
      "ID                                                                            \n",
      "29    1365       1   77      10    Bronz     Gold  4615.314361  4362.295718   \n",
      "38    1553       1   13       6    Bronz     Gold  3592.766919  4800.616393   \n",
      "92    1738       0   73       6    Bronz     Gold  1597.816861  4817.433152   \n",
      "104   1951       0   66       4    Bronz     Gold  4729.892322  4934.742331   \n",
      "108   1270       0   25       8    Bronz     Gold  1724.741328  4348.002233   \n",
      "\n",
      "     visit_20  visit_21      amount_20      amount_21  sales  \n",
      "ID                                                            \n",
      "29         20        78   92306.287223  340259.065985      1  \n",
      "38         29        67  104190.240652  321641.298321      1  \n",
      "92         18        75   28760.703495  361307.486407      1  \n",
      "104        19        68   89867.954122  335562.478524      1  \n",
      "108        51        93   87961.807707  404364.207658      1   \n",
      "\n",
      "* key : ('Silver', 'Bronz')\n",
      "* number : 176\n",
      "    cusno  gender  age  region Grade_20 Grade_21     price_20     price_21  \\\n",
      "ID                                                                           \n",
      "7    1893       1    5       9   Silver    Bronz  3649.011808  1438.646418   \n",
      "8    1767       1   60       6   Silver    Bronz  2235.841801  4908.106477   \n",
      "14   1825       1   53       4   Silver    Bronz  4754.513501  1701.239790   \n",
      "20   1603       0   71       1   Silver    Bronz  2680.087424  4286.824886   \n",
      "21   1997       1   61       6   Silver    Bronz  3786.031124  1766.953051   \n",
      "\n",
      "    visit_20  visit_21      amount_20     amount_21  sales  \n",
      "ID                                                          \n",
      "7         53        67  193397.625823  96389.309997      0  \n",
      "8         93         4  207933.287474  19632.425910      0  \n",
      "14        54        58  256743.729070  98671.907823      0  \n",
      "20        65        19  174205.682565  81449.672827      0  \n",
      "21        63        40  238519.960799  70678.122023      0   \n",
      "\n",
      "* key : ('Silver', 'Silver')\n",
      "* number : 75\n",
      "     cusno  gender  age  region Grade_20 Grade_21     price_20     price_21  \\\n",
      "ID                                                                            \n",
      "22    1254       0   46       5   Silver   Silver  3958.882458  4879.764565   \n",
      "34    1880       1   65       3   Silver   Silver  2270.936974  2710.501061   \n",
      "35    1183       1   52       5   Silver   Silver  2679.055078  3877.887919   \n",
      "89    1332       1   41       2   Silver   Silver  4789.296395  3486.390642   \n",
      "146   1394       0   24      10   Silver   Silver  3064.077075  3094.297326   \n",
      "\n",
      "     visit_20  visit_21      amount_20      amount_21  sales  \n",
      "ID                                                            \n",
      "22         46        45  182108.593086  219589.405440      1  \n",
      "34         81        86  183945.894869  233103.091224      1  \n",
      "35         91        78  243794.012127  302475.257706      1  \n",
      "89         59        60  282568.487321  209183.438534      0  \n",
      "146        73        79  223677.626439  244449.488784      1   \n",
      "\n",
      "* key : ('Silver', 'Gold')\n",
      "* number : 28\n",
      "     cusno  gender  age  region Grade_20 Grade_21     price_20     price_21  \\\n",
      "ID                                                                            \n",
      "31    1030       0   38       6   Silver     Gold  4914.748142  4916.268517   \n",
      "45    1407       1   70       1   Silver     Gold  3208.984406  3578.102223   \n",
      "103   1497       0   56       8   Silver     Gold  3421.500010  4918.402430   \n",
      "129   1845       1    5       2   Silver     Gold  3291.339964  3255.150325   \n",
      "171   1271       0   75       7   Silver     Gold  4130.849155  4433.459912   \n",
      "\n",
      "     visit_20  visit_21      amount_20      amount_21  sales  \n",
      "ID                                                            \n",
      "31         54        79  265396.399684  388385.212880      1  \n",
      "45         66        90  211792.970812  322029.200097      1  \n",
      "103        55        78  188182.500539  383635.389560      1  \n",
      "129        53        98  174441.018107  319004.731815      1  \n",
      "171        66        98  272636.044199  434479.071389      1   \n",
      "\n",
      "* key : ('Gold', 'Bronz')\n",
      "* number : 54\n",
      "     cusno  gender  age  region Grade_20 Grade_21     price_20     price_21  \\\n",
      "ID                                                                            \n",
      "1     1316       1   41       3     Gold    Bronz  3755.464364  3011.357074   \n",
      "41    1876       0   54       7     Gold    Bronz  3568.458604  2080.420844   \n",
      "84    1127       1   63       6     Gold    Bronz  3902.264104  2492.347604   \n",
      "95    1741       0   69       5     Gold    Bronz  4673.643852  1454.161451   \n",
      "159   1269       0   11       8     Gold    Bronz  4585.245196  1767.149192   \n",
      "\n",
      "     visit_20  visit_21      amount_20      amount_21  sales  \n",
      "ID                                                            \n",
      "1         100        36  375546.436437  108408.854650      0  \n",
      "41         99        51  353277.401800  106101.463051      0  \n",
      "84         94        62  366812.825752  154525.551458      0  \n",
      "95         76        34  355196.932739   49441.489340      0  \n",
      "159        91        37  417257.312868   65384.520117      0   \n",
      "\n",
      "* key : ('Gold', 'Silver')\n",
      "* number : 20\n",
      "    cusno  gender  age  region Grade_20 Grade_21     price_20     price_21  \\\n",
      "ID                                                                           \n",
      "44   1792       1   38       5     Gold   Silver  4935.912198  2466.477227   \n",
      "65   1255       0   57       8     Gold   Silver  4204.830824  4443.709008   \n",
      "77   1021       0   26       9     Gold   Silver  4971.211483  3781.771224   \n",
      "82   1918       0   25       1     Gold   Silver  3626.371618  2087.404856   \n",
      "96   1373       1   18       6     Gold   Silver  4749.107072  2130.026745   \n",
      "\n",
      "    visit_20  visit_21      amount_20      amount_21  sales  \n",
      "ID                                                           \n",
      "44        72        75  355385.678250  184985.791989      0  \n",
      "65        93        55  391049.266651  244403.995418      0  \n",
      "77        73        72  362898.438292  272287.528121      0  \n",
      "82        98        85  355384.418543  177429.412783      0  \n",
      "96        97        96  460663.386010  204482.567508      0   \n",
      "\n",
      "* key : ('Gold', 'Gold')\n",
      "* number : 8\n",
      "     cusno  gender  age  region Grade_20 Grade_21     price_20     price_21  \\\n",
      "ID                                                                            \n",
      "70    1962       1   37       8     Gold     Gold  4116.310637  4232.750559   \n",
      "335   1797       1   27       5     Gold     Gold  4812.378869  4889.217452   \n",
      "359   1205       0   44       2     Gold     Gold  4988.990420  3257.418640   \n",
      "384   1565       0   43       6     Gold     Gold  4294.084682  4190.599779   \n",
      "412   1764       1   11       3     Gold     Gold  4168.838177  4945.048050   \n",
      "\n",
      "     visit_20  visit_21      amount_20      amount_21  sales  \n",
      "ID                                                            \n",
      "70         91        81  374584.267953  342852.795287      0  \n",
      "335        94        89  452363.613690  435140.353243      0  \n",
      "359        88       100  439031.156933  325741.864022      0  \n",
      "384        82        87  352114.943949  364582.180812      1  \n",
      "412        88        75  366857.759601  370878.603776      1   \n",
      "\n"
     ]
    }
   ],
   "source": [
    "#4 전체 고객 전년도 등급 비교\n",
    "for key, group in GD:\n",
    "    print('* key :', key)\n",
    "    print('* number :', len(group))\n",
    "    print(group.head(),'\\n')"
   ]
  },
  {
   "cell_type": "code",
   "execution_count": 29,
   "id": "9cd2a27c",
   "metadata": {},
   "outputs": [
    {
     "data": {
      "text/plain": [
       "Grade_20  Grade_21        \n",
       "Bronz     Bronz     Bronz     377\n",
       "                    Silver      0\n",
       "                    Gold        0\n",
       "          Silver    Bronz     194\n",
       "                    Silver      0\n",
       "                    Gold        0\n",
       "          Gold      Bronz      68\n",
       "                    Silver      0\n",
       "                    Gold        0\n",
       "Silver    Bronz     Silver    176\n",
       "                    Bronz       0\n",
       "                    Gold        0\n",
       "          Silver    Silver     75\n",
       "                    Bronz       0\n",
       "                    Gold        0\n",
       "          Gold      Silver     28\n",
       "                    Bronz       0\n",
       "                    Gold        0\n",
       "Gold      Bronz     Gold       54\n",
       "                    Bronz       0\n",
       "                    Silver      0\n",
       "          Silver    Gold       20\n",
       "                    Bronz       0\n",
       "                    Silver      0\n",
       "          Gold      Gold        8\n",
       "                    Bronz       0\n",
       "                    Silver      0\n",
       "Name: Grade_20, dtype: int64"
      ]
     },
     "execution_count": 29,
     "metadata": {},
     "output_type": "execute_result"
    }
   ],
   "source": [
    "GD['Grade_20'].value_counts()"
   ]
  },
  {
   "cell_type": "code",
   "execution_count": 30,
   "id": "7f4e02d3",
   "metadata": {},
   "outputs": [],
   "source": [
    "# 5\n",
    "# 위 자료에서 볼 수 있듯이 전년도에 비해 브론즈 등급의 변화가 없는 고객이 전체의 36.2%정도이다.\n",
    "# 브론즈 등급이 변화가 없거나 등급이 떨어진 고객을 'Question mark = ?'으로 정하겠다.\n",
    "# 등급이 오른 고객은 'Star', 등급이 같은 고객은 'Cash_Cow'"
   ]
  },
  {
   "cell_type": "code",
   "execution_count": 31,
   "id": "7b36c87d",
   "metadata": {},
   "outputs": [
    {
     "data": {
      "text/html": [
       "<div>\n",
       "<style scoped>\n",
       "    .dataframe tbody tr th:only-of-type {\n",
       "        vertical-align: middle;\n",
       "    }\n",
       "\n",
       "    .dataframe tbody tr th {\n",
       "        vertical-align: top;\n",
       "    }\n",
       "\n",
       "    .dataframe thead th {\n",
       "        text-align: right;\n",
       "    }\n",
       "</style>\n",
       "<table border=\"1\" class=\"dataframe\">\n",
       "  <thead>\n",
       "    <tr style=\"text-align: right;\">\n",
       "      <th></th>\n",
       "      <th>cusno</th>\n",
       "      <th>gender</th>\n",
       "      <th>age</th>\n",
       "      <th>region</th>\n",
       "      <th>Grade_20</th>\n",
       "      <th>Grade_21</th>\n",
       "      <th>price_20</th>\n",
       "      <th>price_21</th>\n",
       "      <th>visit_20</th>\n",
       "      <th>visit_21</th>\n",
       "      <th>amount_20</th>\n",
       "      <th>amount_21</th>\n",
       "      <th>sales</th>\n",
       "      <th>BCG</th>\n",
       "    </tr>\n",
       "    <tr>\n",
       "      <th>ID</th>\n",
       "      <th></th>\n",
       "      <th></th>\n",
       "      <th></th>\n",
       "      <th></th>\n",
       "      <th></th>\n",
       "      <th></th>\n",
       "      <th></th>\n",
       "      <th></th>\n",
       "      <th></th>\n",
       "      <th></th>\n",
       "      <th></th>\n",
       "      <th></th>\n",
       "      <th></th>\n",
       "      <th></th>\n",
       "    </tr>\n",
       "  </thead>\n",
       "  <tbody>\n",
       "    <tr>\n",
       "      <th>1</th>\n",
       "      <td>1316</td>\n",
       "      <td>1</td>\n",
       "      <td>41</td>\n",
       "      <td>3</td>\n",
       "      <td>Gold</td>\n",
       "      <td>Bronz</td>\n",
       "      <td>3755.464364</td>\n",
       "      <td>3011.357074</td>\n",
       "      <td>100</td>\n",
       "      <td>36</td>\n",
       "      <td>375546.436437</td>\n",
       "      <td>108408.854650</td>\n",
       "      <td>0</td>\n",
       "      <td>?</td>\n",
       "    </tr>\n",
       "    <tr>\n",
       "      <th>2</th>\n",
       "      <td>1266</td>\n",
       "      <td>0</td>\n",
       "      <td>12</td>\n",
       "      <td>2</td>\n",
       "      <td>Bronz</td>\n",
       "      <td>Bronz</td>\n",
       "      <td>1204.099889</td>\n",
       "      <td>2322.295750</td>\n",
       "      <td>38</td>\n",
       "      <td>65</td>\n",
       "      <td>45755.795799</td>\n",
       "      <td>150949.223763</td>\n",
       "      <td>1</td>\n",
       "      <td>?</td>\n",
       "    </tr>\n",
       "    <tr>\n",
       "      <th>3</th>\n",
       "      <td>1713</td>\n",
       "      <td>0</td>\n",
       "      <td>38</td>\n",
       "      <td>5</td>\n",
       "      <td>Bronz</td>\n",
       "      <td>Silver</td>\n",
       "      <td>1249.915198</td>\n",
       "      <td>3701.383627</td>\n",
       "      <td>94</td>\n",
       "      <td>45</td>\n",
       "      <td>117492.028641</td>\n",
       "      <td>166562.263198</td>\n",
       "      <td>1</td>\n",
       "      <td>Star</td>\n",
       "    </tr>\n",
       "    <tr>\n",
       "      <th>4</th>\n",
       "      <td>1372</td>\n",
       "      <td>0</td>\n",
       "      <td>18</td>\n",
       "      <td>10</td>\n",
       "      <td>Bronz</td>\n",
       "      <td>Silver</td>\n",
       "      <td>1776.698013</td>\n",
       "      <td>2391.231390</td>\n",
       "      <td>26</td>\n",
       "      <td>94</td>\n",
       "      <td>46194.148334</td>\n",
       "      <td>224775.750665</td>\n",
       "      <td>1</td>\n",
       "      <td>Star</td>\n",
       "    </tr>\n",
       "    <tr>\n",
       "      <th>5</th>\n",
       "      <td>1166</td>\n",
       "      <td>0</td>\n",
       "      <td>41</td>\n",
       "      <td>6</td>\n",
       "      <td>Bronz</td>\n",
       "      <td>Bronz</td>\n",
       "      <td>3350.212178</td>\n",
       "      <td>1172.358685</td>\n",
       "      <td>38</td>\n",
       "      <td>45</td>\n",
       "      <td>127308.062747</td>\n",
       "      <td>52756.140836</td>\n",
       "      <td>0</td>\n",
       "      <td>?</td>\n",
       "    </tr>\n",
       "  </tbody>\n",
       "</table>\n",
       "</div>"
      ],
      "text/plain": [
       "    cusno  gender  age  region Grade_20 Grade_21     price_20     price_21  \\\n",
       "ID                                                                           \n",
       "1    1316       1   41       3     Gold    Bronz  3755.464364  3011.357074   \n",
       "2    1266       0   12       2    Bronz    Bronz  1204.099889  2322.295750   \n",
       "3    1713       0   38       5    Bronz   Silver  1249.915198  3701.383627   \n",
       "4    1372       0   18      10    Bronz   Silver  1776.698013  2391.231390   \n",
       "5    1166       0   41       6    Bronz    Bronz  3350.212178  1172.358685   \n",
       "\n",
       "    visit_20  visit_21      amount_20      amount_21  sales   BCG  \n",
       "ID                                                                 \n",
       "1        100        36  375546.436437  108408.854650      0     ?  \n",
       "2         38        65   45755.795799  150949.223763      1     ?  \n",
       "3         94        45  117492.028641  166562.263198      1  Star  \n",
       "4         26        94   46194.148334  224775.750665      1  Star  \n",
       "5         38        45  127308.062747   52756.140836      0     ?  "
      ]
     },
     "execution_count": 31,
     "metadata": {},
     "output_type": "execute_result"
    }
   ],
   "source": [
    "def bcg(x):\n",
    "    if (x[\"Grade_20\"] == \"Bronz\")&(x[\"Grade_21\"] == \"Bronz\"):\n",
    "        return \"?\"\n",
    "    elif (x[\"Grade_20\"] == \"Silver\")&(x[\"Grade_21\"] == \"Bronz\"):\n",
    "        return \"?\"\n",
    "    elif (x[\"Grade_20\"] == \"Gold\")&(x[\"Grade_21\"] == \"Bronz\"):\n",
    "        return \"?\"\n",
    "    elif (x[\"Grade_20\"] == \"Gold\")&(x[\"Grade_21\"] == \"Siver\"):\n",
    "        return \"?\"\n",
    "    elif (x[\"Grade_20\"] == \"Gold\")&(x[\"Grade_21\"] == \"Gold\"):\n",
    "        return \"Cash_Cow\"\n",
    "    elif (x[\"Grade_20\"] == \"Silver\")&(x[\"Grade_21\"] == \"Silver\"):\n",
    "        return \"Cash_Cow\"\n",
    "    else:\n",
    "        return \"Star\"\n",
    "    \n",
    "    \n",
    "insite_df['BCG'] = insite_df.apply(lambda x: bcg(x), axis=1)\n",
    "insite_df.head()"
   ]
  },
  {
   "cell_type": "code",
   "execution_count": 32,
   "id": "ab05846c",
   "metadata": {},
   "outputs": [
    {
     "data": {
      "text/plain": [
       "?           607\n",
       "Star        310\n",
       "Cash_Cow     83\n",
       "Name: BCG, dtype: int64"
      ]
     },
     "execution_count": 32,
     "metadata": {},
     "output_type": "execute_result"
    }
   ],
   "source": [
    "insite_df['BCG'].value_counts()"
   ]
  },
  {
   "cell_type": "code",
   "execution_count": 33,
   "id": "3c247898",
   "metadata": {},
   "outputs": [],
   "source": [
    "# 위 BCG 컬럼을 적용하여 \n",
    "# 제품을 구매하지만 등급이 떨어지거나 제품 구매가 더딘 고객에겐 \"?\"마크를 줘서 이벤트를 열어 구매를 늘리면 혜택을 주는 마케팅을 사용하거나 반대급부인 아무런 관심을 주지 않는 마케팅을 쓸 수도 있다.\n",
    "# 이와 반대되는 고객들에겐 그에 맞는 맞춤형 마케팅을 선보일 수 있을 것이다."
   ]
  },
  {
   "cell_type": "code",
   "execution_count": null,
   "id": "69ae5a97",
   "metadata": {},
   "outputs": [],
   "source": []
  },
  {
   "cell_type": "code",
   "execution_count": null,
   "id": "38c1e8c5",
   "metadata": {},
   "outputs": [],
   "source": []
  }
 ],
 "metadata": {
  "kernelspec": {
   "display_name": "Python 3 (ipykernel)",
   "language": "python",
   "name": "python3"
  },
  "language_info": {
   "codemirror_mode": {
    "name": "ipython",
    "version": 3
   },
   "file_extension": ".py",
   "mimetype": "text/x-python",
   "name": "python",
   "nbconvert_exporter": "python",
   "pygments_lexer": "ipython3",
   "version": "3.8.13"
  }
 },
 "nbformat": 4,
 "nbformat_minor": 5
}
